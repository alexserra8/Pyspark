{
 "cells": [
  {
   "cell_type": "markdown",
   "id": "2477772a",
   "metadata": {},
   "source": [
    "# 0. Importing Libraries"
   ]
  },
  {
   "cell_type": "code",
   "execution_count": 1,
   "id": "844cd465",
   "metadata": {},
   "outputs": [],
   "source": [
    "import pandas as pd\n",
    "import numpy as np\n",
    "import pyspark as sp\n",
    "import findspark\n",
    "\n",
    "from pyspark.sql import SparkSession"
   ]
  },
  {
   "cell_type": "code",
   "execution_count": null,
   "id": "95850c26",
   "metadata": {},
   "outputs": [],
   "source": []
  },
  {
   "cell_type": "markdown",
   "id": "4da96670",
   "metadata": {},
   "source": [
    "# 1. Find Spark"
   ]
  },
  {
   "cell_type": "markdown",
   "id": "94841531",
   "metadata": {},
   "source": [
    "Adding pyspark to sys.path at runtime using the library findspark"
   ]
  },
  {
   "cell_type": "code",
   "execution_count": 2,
   "id": "5afbe168",
   "metadata": {},
   "outputs": [
    {
     "data": {
      "text/plain": [
       "'C:\\\\spark-3.4.1-bin-hadoop3'"
      ]
     },
     "execution_count": 2,
     "metadata": {},
     "output_type": "execute_result"
    }
   ],
   "source": [
    "findspark.init()\n",
    "findspark.find()"
   ]
  },
  {
   "cell_type": "code",
   "execution_count": null,
   "id": "baea63b0",
   "metadata": {},
   "outputs": [],
   "source": []
  },
  {
   "cell_type": "markdown",
   "id": "3c1244b0",
   "metadata": {},
   "source": [
    "# 2. Creating SparkSession"
   ]
  },
  {
   "cell_type": "markdown",
   "id": "12e0579c",
   "metadata": {},
   "source": [
    "One aspect of the explanation why SparkSession is preferable over SparkContext in SparkSession Vs SparkContext battle is that SparkSession unifies all of Spark’s numerous contexts, removing the developer’s need to worry about generating separate contexts."
   ]
  },
  {
   "cell_type": "code",
   "execution_count": null,
   "id": "8a69faf0",
   "metadata": {},
   "outputs": [],
   "source": [
    "#Create the SparkSession\n",
    "spark = SparkSession.builder.getOrCreate()\n",
    "\n",
    "#print the session\n",
    "print(spark)"
   ]
  },
  {
   "cell_type": "code",
   "execution_count": null,
   "id": "e9185333",
   "metadata": {},
   "outputs": [],
   "source": []
  },
  {
   "cell_type": "markdown",
   "id": "b38bea70",
   "metadata": {},
   "source": [
    "# 3. Creating test Pyspark dataframe"
   ]
  },
  {
   "cell_type": "code",
   "execution_count": null,
   "id": "36205241",
   "metadata": {
    "scrolled": false
   },
   "outputs": [],
   "source": [
    "# Create pandas dataframe to try\n",
    "pd_temp = pd.DataFrame(np.random.random(10))\n",
    "pd_temp.head()"
   ]
  },
  {
   "cell_type": "code",
   "execution_count": null,
   "id": "a95f50e6",
   "metadata": {},
   "outputs": [],
   "source": [
    "# Create spark_temp dataframe from pandas dataframe\n",
    "spark_temp = spark.createDataFrame(pd_temp)\n",
    "spark_temp.show()"
   ]
  },
  {
   "cell_type": "code",
   "execution_count": null,
   "id": "6e53e742",
   "metadata": {},
   "outputs": [],
   "source": [
    "# Examine the tables in the catalog\n",
    "print(spark.catalog.listTables())"
   ]
  },
  {
   "cell_type": "code",
   "execution_count": null,
   "id": "2ed6b847",
   "metadata": {},
   "outputs": [],
   "source": [
    "# Add spark_temp to the catalog\n",
    "spark_temp.createOrReplaceTempView(\"temp\")\n",
    "\n",
    "# Examine the tables in the catalog again\n",
    "print(spark.catalog.listTables())"
   ]
  },
  {
   "cell_type": "code",
   "execution_count": null,
   "id": "02607ee2",
   "metadata": {},
   "outputs": [],
   "source": []
  },
  {
   "cell_type": "markdown",
   "id": "99273a6a",
   "metadata": {},
   "source": [
    "# 4. Importing Csv to Pyspark dataframe"
   ]
  },
  {
   "cell_type": "code",
   "execution_count": null,
   "id": "7b8d9b7a",
   "metadata": {},
   "outputs": [],
   "source": [
    "# Defining path where csv is \n",
    "file_path = \"airports.csv\"\n",
    "\n",
    "# Read in the airports data\n",
    "airports = spark.read.csv(file_path, header=True)\n",
    "\n",
    "# Show the data\n",
    "airports.show()"
   ]
  },
  {
   "cell_type": "code",
   "execution_count": null,
   "id": "6e8f7d1f",
   "metadata": {},
   "outputs": [],
   "source": [
    "type(airports)"
   ]
  },
  {
   "cell_type": "code",
   "execution_count": null,
   "id": "ecea10e2",
   "metadata": {},
   "outputs": [],
   "source": [
    "spark.catalog.listTables()"
   ]
  },
  {
   "cell_type": "code",
   "execution_count": null,
   "id": "5b81abf3",
   "metadata": {},
   "outputs": [],
   "source": [
    "# Add aiports to the catalog\n",
    "airports.createOrReplaceTempView(\"Aiports_data\")\n",
    "\n",
    "# Examine the tables in the catalog again\n",
    "print(spark.catalog.listTables())"
   ]
  },
  {
   "cell_type": "code",
   "execution_count": null,
   "id": "b80b2d94",
   "metadata": {},
   "outputs": [],
   "source": []
  },
  {
   "cell_type": "code",
   "execution_count": null,
   "id": "94e9b3eb",
   "metadata": {},
   "outputs": [],
   "source": []
  },
  {
   "cell_type": "markdown",
   "id": "7c8747e6",
   "metadata": {},
   "source": [
    "# 5. General Example SQL"
   ]
  },
  {
   "cell_type": "markdown",
   "id": "7a514b84",
   "metadata": {},
   "source": [
    "### 5.1 Importing csv"
   ]
  },
  {
   "cell_type": "code",
   "execution_count": null,
   "id": "7db2af9a",
   "metadata": {},
   "outputs": [],
   "source": [
    "flights = spark.read.csv('flights_small.csv', header=True)"
   ]
  },
  {
   "cell_type": "code",
   "execution_count": null,
   "id": "933ef39b",
   "metadata": {},
   "outputs": [],
   "source": [
    "flights.show()"
   ]
  },
  {
   "cell_type": "code",
   "execution_count": null,
   "id": "e0e255a8",
   "metadata": {},
   "outputs": [],
   "source": [
    "#Move the dataframe to list tables\n",
    "flights.createOrReplaceTempView('flights')\n",
    "spark.catalog.listTables()"
   ]
  },
  {
   "cell_type": "markdown",
   "id": "93392a2a",
   "metadata": {},
   "source": [
    "### 5.2 From table to dataframe"
   ]
  },
  {
   "cell_type": "code",
   "execution_count": null,
   "id": "38372993",
   "metadata": {},
   "outputs": [],
   "source": [
    "# Create the DataFrame flights from the list table\n",
    "flights_1 = spark.table('flights')\n",
    "\n",
    "# Show the head\n",
    "print(flights_1.show())"
   ]
  },
  {
   "cell_type": "markdown",
   "id": "f1e0bde4",
   "metadata": {},
   "source": [
    "### 5.3 Creating new colummns"
   ]
  },
  {
   "cell_type": "code",
   "execution_count": null,
   "id": "69efdbf5",
   "metadata": {},
   "outputs": [],
   "source": [
    "# Add duration_hrs\n",
    "from pyspark.sql.functions import round\n",
    "flights = flights.withColumn('duration_hrs', round(flights.air_time / 60,3))"
   ]
  },
  {
   "cell_type": "code",
   "execution_count": null,
   "id": "81e99cf6",
   "metadata": {},
   "outputs": [],
   "source": [
    "flights.show()"
   ]
  },
  {
   "cell_type": "markdown",
   "id": "009af7e2",
   "metadata": {},
   "source": [
    "### 5.4 Filtering Data I"
   ]
  },
  {
   "cell_type": "code",
   "execution_count": null,
   "id": "fd1fea56",
   "metadata": {},
   "outputs": [],
   "source": [
    "# Filter flights with a SQL string\n",
    "long_flights1 = flights.filter('distance > 1000')\n",
    "print(long_flights1.show(5))"
   ]
  },
  {
   "cell_type": "code",
   "execution_count": null,
   "id": "a9a45d84",
   "metadata": {},
   "outputs": [],
   "source": [
    "# Filter flights with a boolean column\n",
    "long_flights2 = flights.filter(flights.distance > 1000)\n",
    "\n",
    "# Examine the data to check they're equal\n",
    "print(long_flights2.show(5))"
   ]
  },
  {
   "cell_type": "code",
   "execution_count": null,
   "id": "6a34811f",
   "metadata": {},
   "outputs": [],
   "source": []
  },
  {
   "cell_type": "markdown",
   "id": "89ddf1ec",
   "metadata": {},
   "source": [
    "### 5.5 Filtering Data II"
   ]
  },
  {
   "cell_type": "code",
   "execution_count": null,
   "id": "105acfb1",
   "metadata": {},
   "outputs": [],
   "source": [
    "# Select the first set of columns\n",
    "flights.select(\"tailnum\",\"origin\", \"dest\").show()"
   ]
  },
  {
   "cell_type": "code",
   "execution_count": null,
   "id": "872c9e1a",
   "metadata": {},
   "outputs": [],
   "source": [
    "# Select the second set of columns\n",
    "temp=flights.select(flights.origin, flights.dest, flights.carrier)\n",
    "temp.show()"
   ]
  },
  {
   "cell_type": "code",
   "execution_count": null,
   "id": "d0948047",
   "metadata": {},
   "outputs": [],
   "source": [
    "# Define first filter\n",
    "filterA = flights.origin == \"SEA\"\n",
    "filterA"
   ]
  },
  {
   "cell_type": "code",
   "execution_count": null,
   "id": "4f8d7dc6",
   "metadata": {},
   "outputs": [],
   "source": [
    "# Define second filter\n",
    "filterB = flights.dest == \"PDX\"\n",
    "filterB"
   ]
  },
  {
   "cell_type": "code",
   "execution_count": null,
   "id": "c8a046ed",
   "metadata": {},
   "outputs": [],
   "source": [
    "# Filter the data, first by filterA then by filterB\n",
    "selected2 = temp.filter(filterA).filter(filterB)\n",
    "selected2.show()"
   ]
  },
  {
   "cell_type": "code",
   "execution_count": null,
   "id": "371505d9",
   "metadata": {},
   "outputs": [],
   "source": []
  },
  {
   "cell_type": "markdown",
   "id": "14505354",
   "metadata": {},
   "source": [
    "### 5.6 Filtering Data III"
   ]
  },
  {
   "cell_type": "code",
   "execution_count": null,
   "id": "0a3d39ca",
   "metadata": {},
   "outputs": [],
   "source": [
    "# Define avg_speed\n",
    "avg_speed = (flights.distance/(flights.air_time/60)).alias(\"avg_speed\")\n",
    "avg_speed"
   ]
  },
  {
   "cell_type": "code",
   "execution_count": null,
   "id": "c4502730",
   "metadata": {},
   "outputs": [],
   "source": [
    "# Select the correct columns\n",
    "speed1 = flights.select(\"origin\", \"dest\", \"tailnum\", avg_speed)\n",
    "speed1.show()"
   ]
  },
  {
   "cell_type": "code",
   "execution_count": null,
   "id": "22d3e57a",
   "metadata": {},
   "outputs": [],
   "source": [
    "# Create the same table using a SQL expression\n",
    "speed2 = flights.selectExpr(\"origin\", \"dest\", \"tailnum\", \"distance/(air_time/60) as avg_speed\")\n",
    "speed2.show()"
   ]
  },
  {
   "cell_type": "code",
   "execution_count": null,
   "id": "9836018d",
   "metadata": {},
   "outputs": [],
   "source": []
  },
  {
   "cell_type": "markdown",
   "id": "19d4cbee",
   "metadata": {},
   "source": [
    "### 5.7 Aggregating"
   ]
  },
  {
   "cell_type": "code",
   "execution_count": null,
   "id": "aae0cba5",
   "metadata": {},
   "outputs": [],
   "source": [
    "flights.describe()"
   ]
  },
  {
   "cell_type": "code",
   "execution_count": null,
   "id": "5d434b88",
   "metadata": {},
   "outputs": [],
   "source": [
    "flights = flights.withColumn(\"distance\", flights.distance.cast(\"float\"))"
   ]
  },
  {
   "cell_type": "code",
   "execution_count": null,
   "id": "02b3edc1",
   "metadata": {},
   "outputs": [],
   "source": [
    "flights = flights.withColumn(\"air_time\", flights.air_time.cast(\"float\"))"
   ]
  },
  {
   "cell_type": "code",
   "execution_count": null,
   "id": "d9886419",
   "metadata": {},
   "outputs": [],
   "source": [
    "flights.describe('air_time', 'distance').show()"
   ]
  },
  {
   "cell_type": "code",
   "execution_count": null,
   "id": "167c6cdd",
   "metadata": {},
   "outputs": [],
   "source": [
    "# Find the shortest flight from PDX in terms of distance\n",
    "flights.filter(flights.origin == \"PDX\").groupBy().min(\"distance\").show()"
   ]
  },
  {
   "cell_type": "code",
   "execution_count": null,
   "id": "bc99687a",
   "metadata": {},
   "outputs": [],
   "source": [
    "# Find the longest flight from SEA in terms of duration\n",
    "flights.filter(flights.origin == \"SEA\").groupBy().max(\"air_time\").show()"
   ]
  },
  {
   "cell_type": "code",
   "execution_count": null,
   "id": "31aa242d",
   "metadata": {},
   "outputs": [],
   "source": [
    "# Average duration of Delta flights\n",
    "flights.filter(flights.carrier == \"DL\").filter(flights.origin == \"SEA\").groupBy().avg('air_time').show()"
   ]
  },
  {
   "cell_type": "code",
   "execution_count": null,
   "id": "24c9c1b6",
   "metadata": {},
   "outputs": [],
   "source": [
    "# Total hours in the air\n",
    "flights.withColumn(\"duration_hrs\", flights.air_time/60).groupBy().sum(\"duration_hrs\").show()"
   ]
  },
  {
   "cell_type": "code",
   "execution_count": null,
   "id": "c914baca",
   "metadata": {},
   "outputs": [],
   "source": []
  },
  {
   "cell_type": "markdown",
   "id": "eb009504",
   "metadata": {},
   "source": [
    "### 5.8 Grouping and Aggregating I"
   ]
  },
  {
   "cell_type": "code",
   "execution_count": null,
   "id": "fa29b0c1",
   "metadata": {},
   "outputs": [],
   "source": [
    "# Group by tailnum\n",
    "by_plane = flights.groupBy(\"tailnum\")"
   ]
  },
  {
   "cell_type": "code",
   "execution_count": null,
   "id": "3775335b",
   "metadata": {},
   "outputs": [],
   "source": [
    "# Number of flights each plane made\n",
    "by_plane.count().show()"
   ]
  },
  {
   "cell_type": "code",
   "execution_count": null,
   "id": "25d4d11d",
   "metadata": {},
   "outputs": [],
   "source": [
    "# Group by origin\n",
    "by_origin = flights.groupBy(\"origin\")"
   ]
  },
  {
   "cell_type": "code",
   "execution_count": null,
   "id": "45234ad3",
   "metadata": {},
   "outputs": [],
   "source": [
    "# Average duration of flights from PDX and SEA\n",
    "by_origin.avg(\"air_time\").show()"
   ]
  },
  {
   "cell_type": "markdown",
   "id": "527a9031",
   "metadata": {},
   "source": [
    "### 5.9 Grouping and Aggregating II"
   ]
  },
  {
   "cell_type": "code",
   "execution_count": null,
   "id": "561ca369",
   "metadata": {},
   "outputs": [],
   "source": [
    "flights"
   ]
  },
  {
   "cell_type": "code",
   "execution_count": null,
   "id": "a63442ae",
   "metadata": {},
   "outputs": [],
   "source": [
    "flights = flights.withColumn(\"dep_delay\", flights.dep_delay.cast(\"float\"))\n",
    "flights.show(5)"
   ]
  },
  {
   "cell_type": "code",
   "execution_count": null,
   "id": "46077875",
   "metadata": {},
   "outputs": [],
   "source": []
  },
  {
   "cell_type": "markdown",
   "id": "18095a0f",
   "metadata": {},
   "source": [
    "### 5.9 Grouping and Aggregating II"
   ]
  },
  {
   "cell_type": "code",
   "execution_count": null,
   "id": "5775ccdc",
   "metadata": {},
   "outputs": [],
   "source": [
    "# Import pyspark.sql.functions as F\n",
    "import pyspark.sql.functions as F"
   ]
  },
  {
   "cell_type": "code",
   "execution_count": null,
   "id": "795f16a3",
   "metadata": {},
   "outputs": [],
   "source": [
    "# Group by month and dest\n",
    "by_month_dest = flights.groupBy(\"month\", \"dest\")\n",
    "\n",
    "# Average departure delay by month and destination\n",
    "by_month_dest.avg(\"dep_delay\").show()"
   ]
  },
  {
   "cell_type": "code",
   "execution_count": null,
   "id": "16f2fd25",
   "metadata": {},
   "outputs": [],
   "source": [
    "# Standard deviation\n",
    "by_month_dest.agg(F.stddev(\"dep_delay\")).show()"
   ]
  },
  {
   "cell_type": "code",
   "execution_count": null,
   "id": "58d8e61a",
   "metadata": {},
   "outputs": [],
   "source": []
  },
  {
   "cell_type": "markdown",
   "id": "6f19f867",
   "metadata": {},
   "source": [
    "### 5.10 Joining"
   ]
  },
  {
   "cell_type": "code",
   "execution_count": null,
   "id": "8b6f7024",
   "metadata": {},
   "outputs": [],
   "source": [
    "airports.show()"
   ]
  },
  {
   "cell_type": "code",
   "execution_count": null,
   "id": "0d980c69",
   "metadata": {},
   "outputs": [],
   "source": [
    "# Rename the faa column\n",
    "airports = airports.withColumnRenamed(\"faa\", \"dest\")\n",
    "airports.show()"
   ]
  },
  {
   "cell_type": "code",
   "execution_count": null,
   "id": "9408a1c2",
   "metadata": {},
   "outputs": [],
   "source": [
    "# Join the DataFrames\n",
    "flights_with_airports = flights.join(airports, on=\"dest\", how=\"leftouter\")"
   ]
  },
  {
   "cell_type": "code",
   "execution_count": null,
   "id": "7ecd6c41",
   "metadata": {},
   "outputs": [],
   "source": [
    "flights_with_airports.show()"
   ]
  },
  {
   "cell_type": "code",
   "execution_count": null,
   "id": "a97036a5",
   "metadata": {},
   "outputs": [],
   "source": [
    "# Examine the data again\n",
    "flights_with_airports.limit(5).toPandas()"
   ]
  },
  {
   "cell_type": "code",
   "execution_count": null,
   "id": "1cef9af1",
   "metadata": {},
   "outputs": [],
   "source": []
  },
  {
   "cell_type": "code",
   "execution_count": null,
   "id": "b67da20f",
   "metadata": {},
   "outputs": [],
   "source": []
  },
  {
   "cell_type": "markdown",
   "id": "e2491a50",
   "metadata": {},
   "source": [
    "https://github.com/ozlerhakan/datacamp/blob/master/Introduction%20to%20PySpark/introduction-to-pySpark.ipynb"
   ]
  },
  {
   "cell_type": "code",
   "execution_count": null,
   "id": "614a11a7",
   "metadata": {},
   "outputs": [],
   "source": []
  },
  {
   "cell_type": "code",
   "execution_count": null,
   "id": "36c2790c",
   "metadata": {},
   "outputs": [],
   "source": []
  }
 ],
 "metadata": {
  "kernelspec": {
   "display_name": "Python 3 (ipykernel)",
   "language": "python",
   "name": "python3"
  },
  "language_info": {
   "codemirror_mode": {
    "name": "ipython",
    "version": 3
   },
   "file_extension": ".py",
   "mimetype": "text/x-python",
   "name": "python",
   "nbconvert_exporter": "python",
   "pygments_lexer": "ipython3",
   "version": "3.9.13"
  }
 },
 "nbformat": 4,
 "nbformat_minor": 5
}
