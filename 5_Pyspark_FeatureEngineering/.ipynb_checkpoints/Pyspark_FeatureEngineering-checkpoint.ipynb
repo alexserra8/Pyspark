{
 "cells": [
  {
   "cell_type": "markdown",
   "id": "2477772a",
   "metadata": {},
   "source": [
    "# 0. Importing Libraries"
   ]
  },
  {
   "cell_type": "code",
   "execution_count": 1,
   "id": "844cd465",
   "metadata": {},
   "outputs": [],
   "source": [
    "import pandas as pd\n",
    "import numpy as np\n",
    "import pyspark as sp\n",
    "import findspark\n",
    "\n",
    "from pyspark.sql import SparkSession"
   ]
  },
  {
   "cell_type": "code",
   "execution_count": null,
   "id": "95850c26",
   "metadata": {},
   "outputs": [],
   "source": []
  },
  {
   "cell_type": "markdown",
   "id": "4da96670",
   "metadata": {},
   "source": [
    "# 1. Find Spark"
   ]
  },
  {
   "cell_type": "markdown",
   "id": "94841531",
   "metadata": {},
   "source": [
    "Adding pyspark to sys.path at runtime using the library findspark"
   ]
  },
  {
   "cell_type": "code",
   "execution_count": 2,
   "id": "5afbe168",
   "metadata": {},
   "outputs": [
    {
     "data": {
      "text/plain": [
       "'C:\\\\spark-3.4.1-bin-hadoop3'"
      ]
     },
     "execution_count": 2,
     "metadata": {},
     "output_type": "execute_result"
    }
   ],
   "source": [
    "findspark.init()\n",
    "findspark.find()"
   ]
  },
  {
   "cell_type": "code",
   "execution_count": null,
   "id": "baea63b0",
   "metadata": {},
   "outputs": [],
   "source": []
  },
  {
   "cell_type": "markdown",
   "id": "3c1244b0",
   "metadata": {},
   "source": [
    "# 2. Creating SparkSession"
   ]
  },
  {
   "cell_type": "markdown",
   "id": "12e0579c",
   "metadata": {},
   "source": [
    "One aspect of the explanation why SparkSession is preferable over SparkContext in SparkSession Vs SparkContext battle is that SparkSession unifies all of Spark’s numerous contexts, removing the developer’s need to worry about generating separate contexts."
   ]
  },
  {
   "cell_type": "code",
   "execution_count": 3,
   "id": "8a69faf0",
   "metadata": {},
   "outputs": [
    {
     "name": "stdout",
     "output_type": "stream",
     "text": [
      "<pyspark.sql.session.SparkSession object at 0x00000284715E3B20>\n"
     ]
    }
   ],
   "source": [
    "#Create the SparkSession\n",
    "my_spark = SparkSession.builder.getOrCreate()\n",
    "\n",
    "#print the session\n",
    "print(my_spark)"
   ]
  },
  {
   "cell_type": "code",
   "execution_count": null,
   "id": "d32719bc",
   "metadata": {},
   "outputs": [],
   "source": []
  },
  {
   "cell_type": "markdown",
   "id": "e549142b",
   "metadata": {},
   "source": [
    "# 3. Dataset overview"
   ]
  },
  {
   "cell_type": "code",
   "execution_count": 4,
   "id": "af4018e5",
   "metadata": {},
   "outputs": [
    {
     "data": {
      "text/plain": [
       "['No.',\n",
       " 'MLSID',\n",
       " 'StreetNumberNumeric',\n",
       " 'streetaddress',\n",
       " 'STREETNAME',\n",
       " 'PostalCode',\n",
       " 'StateOrProvince',\n",
       " 'City',\n",
       " 'SalesClosePrice',\n",
       " 'LISTDATE',\n",
       " 'LISTPRICE',\n",
       " 'LISTTYPE',\n",
       " 'OriginalListPrice',\n",
       " 'PricePerTSFT',\n",
       " 'FOUNDATIONSIZE',\n",
       " 'FENCE',\n",
       " 'MapLetter',\n",
       " 'LotSizeDimensions',\n",
       " 'SchoolDistrictNumber',\n",
       " 'DAYSONMARKET',\n",
       " 'offmarketdate',\n",
       " 'Fireplaces',\n",
       " 'RoomArea4',\n",
       " 'roomtype',\n",
       " 'ROOF',\n",
       " 'RoomFloor4',\n",
       " 'PotentialShortSale',\n",
       " 'PoolDescription',\n",
       " 'PDOM',\n",
       " 'GarageDescription',\n",
       " 'SQFTABOVEGROUND',\n",
       " 'Taxes',\n",
       " 'RoomFloor1',\n",
       " 'RoomArea1',\n",
       " 'TAXWITHASSESSMENTS',\n",
       " 'TAXYEAR',\n",
       " 'LivingArea',\n",
       " 'UNITNUMBER',\n",
       " 'YEARBUILT',\n",
       " 'ZONING',\n",
       " 'STYLE',\n",
       " 'ACRES',\n",
       " 'CoolingDescription',\n",
       " 'APPLIANCES',\n",
       " 'backonmarketdate',\n",
       " 'ROOMFAMILYCHAR',\n",
       " 'RoomArea3',\n",
       " 'EXTERIOR',\n",
       " 'RoomFloor3',\n",
       " 'RoomFloor2',\n",
       " 'RoomArea2',\n",
       " 'DiningRoomDescription',\n",
       " 'BASEMENT',\n",
       " 'BathsFull',\n",
       " 'BathsHalf',\n",
       " 'BATHQUARTER',\n",
       " 'BATHSTHREEQUARTER',\n",
       " 'Class',\n",
       " 'BATHSTOTAL',\n",
       " 'BATHDESC',\n",
       " 'RoomArea5',\n",
       " 'RoomFloor5',\n",
       " 'RoomArea6',\n",
       " 'RoomFloor6',\n",
       " 'RoomArea7',\n",
       " 'RoomFloor7',\n",
       " 'RoomArea8',\n",
       " 'RoomFloor8',\n",
       " 'Bedrooms',\n",
       " 'SQFTBELOWGROUND',\n",
       " 'AssumableMortgage',\n",
       " 'AssociationFee',\n",
       " 'ASSESSMENTPENDING',\n",
       " 'AssessedValuation']"
      ]
     },
     "execution_count": 4,
     "metadata": {},
     "output_type": "execute_result"
    }
   ],
   "source": [
    "df = my_spark.read.csv('2017_StPaul_MN_Real_Estate.csv', header=True)\n",
    "df.columns"
   ]
  },
  {
   "cell_type": "code",
   "execution_count": 5,
   "id": "1525f080",
   "metadata": {},
   "outputs": [
    {
     "name": "stdout",
     "output_type": "stream",
     "text": [
      "+-------+------------------+\n",
      "|summary|   SalesClosePrice|\n",
      "+-------+------------------+\n",
      "|  count|              5000|\n",
      "|   mean|       262804.4668|\n",
      "| stddev|140559.82591998563|\n",
      "|    min|            100000|\n",
      "|    max|             99900|\n",
      "+-------+------------------+\n",
      "\n"
     ]
    }
   ],
   "source": [
    "# Select our dependent variable\n",
    "Y_df = df.select(['SalesClosePrice'])\n",
    "\n",
    "# Display summary statistics\n",
    "Y_df.describe().show()"
   ]
  },
  {
   "cell_type": "code",
   "execution_count": null,
   "id": "6faecd03",
   "metadata": {},
   "outputs": [],
   "source": []
  },
  {
   "cell_type": "markdown",
   "id": "c0e81ef8",
   "metadata": {},
   "source": [
    "# 4. Preprocessing data I"
   ]
  },
  {
   "cell_type": "code",
   "execution_count": 6,
   "id": "94665501",
   "metadata": {},
   "outputs": [
    {
     "data": {
      "text/plain": [
       "[('SalesClosePrice', 'string')]"
      ]
     },
     "execution_count": 6,
     "metadata": {},
     "output_type": "execute_result"
    }
   ],
   "source": [
    "#Check data of the feature to predict \n",
    "df.select([\"SalesClosePrice\"]).dtypes"
   ]
  },
  {
   "cell_type": "code",
   "execution_count": 7,
   "id": "91bcb2d0",
   "metadata": {},
   "outputs": [],
   "source": [
    "# convert the data type of SalesClosePrice to integer\n",
    "df = df.withColumn(\"SalesClosePrice\", df.SalesClosePrice.cast(\"integer\"))"
   ]
  },
  {
   "cell_type": "code",
   "execution_count": 8,
   "id": "e859bd48",
   "metadata": {},
   "outputs": [
    {
     "data": {
      "text/plain": [
       "[('SalesClosePrice', 'int')]"
      ]
     },
     "execution_count": 8,
     "metadata": {},
     "output_type": "execute_result"
    }
   ],
   "source": [
    "#Check again the type after converting it.\n",
    "df.select([\"SalesClosePrice\"]).dtypes"
   ]
  },
  {
   "cell_type": "code",
   "execution_count": 9,
   "id": "af7d82c8",
   "metadata": {},
   "outputs": [
    {
     "name": "stdout",
     "output_type": "stream",
     "text": [
      "+-------+------------------+\n",
      "|summary|   SalesClosePrice|\n",
      "+-------+------------------+\n",
      "|  count|              5000|\n",
      "|   mean|       262804.4668|\n",
      "| stddev|140559.82591998563|\n",
      "|    min|             48000|\n",
      "|    max|           1700000|\n",
      "+-------+------------------+\n",
      "\n"
     ]
    }
   ],
   "source": [
    "df.select('SalesClosePrice').describe().show()"
   ]
  },
  {
   "cell_type": "code",
   "execution_count": 10,
   "id": "3cbfa459",
   "metadata": {},
   "outputs": [],
   "source": [
    "#Modifying some types of key variables\n",
    "df = df.withColumn(\"AssessedValuation\", df.AssessedValuation.cast(\"double\"))\n",
    "df = df.withColumn(\"AssociationFee\", df.AssociationFee.cast(\"bigint\"))\n",
    "df = df.withColumn(\"SQFTBELOWGROUND\", df.SQFTBELOWGROUND.cast(\"bigint\"))"
   ]
  },
  {
   "cell_type": "code",
   "execution_count": 11,
   "id": "85ec7ca3",
   "metadata": {},
   "outputs": [],
   "source": [
    "#modifying name of column to capital letters\n",
    "required_dtypes = [('NO', 'bigint'),\n",
    " ('MLSID', 'string'),\n",
    " ('STREETNUMBERNUMERIC', 'bigint'),\n",
    " ('STREETADDRESS', 'string'),\n",
    " ('STREETNAME', 'string'),\n",
    " ('POSTALCODE', 'bigint'),\n",
    " ('STATEORPROVINCE', 'string'),\n",
    " ('CITY', 'string'),\n",
    " ('SALESCLOSEPRICE', 'bigint'),\n",
    " ('LISTDATE', 'string'),\n",
    " ('LISTPRICE', 'bigint'),\n",
    " ('LISTTYPE', 'string'),\n",
    " ('ORIGINALLISTPRICE', 'bigint'),\n",
    " ('PRICEPERTSFT', 'double'),\n",
    " ('FOUNDATIONSIZE', 'bigint'),\n",
    " ('FENCE', 'string'),\n",
    " ('MAPLETTER', 'string'),\n",
    " ('LOTSIZEDIMENSIONS', 'string'),\n",
    " ('SCHOOLDISTRICTNUMBER', 'string'),\n",
    " ('DAYSONMARKET', 'bigint'),\n",
    " ('OFFMARKETDATE', 'string'),\n",
    " ('FIREPLACES', 'bigint'),\n",
    " ('ROOMAREA4', 'string'),\n",
    " ('ROOMTYPE', 'string'),\n",
    " ('ROOF', 'string'),\n",
    " ('ROOMFLOOR4', 'string'),\n",
    " ('POTENTIALSHORTSALE', 'string'),\n",
    " ('POOLDESCRIPTION', 'string'),\n",
    " ('PDOM', 'bigint'),\n",
    " ('GARAGEDESCRIPTION', 'string'),\n",
    " ('SQFTABOVEGROUND', 'bigint'),\n",
    " ('TAXES', 'bigint'),\n",
    " ('ROOMFLOOR1', 'string'),\n",
    " ('ROOMAREA1', 'string'),\n",
    " ('TAXWITHASSESSMENTS', 'double'),\n",
    " ('TAXYEAR', 'bigint'),\n",
    " ('LIVINGAREA', 'bigint'),\n",
    " ('UNITNUMBER', 'string'),\n",
    " ('YEARBUILT', 'bigint'),\n",
    " ('ZONING', 'string'),\n",
    " ('STYLE', 'string'),\n",
    " ('ACRES', 'double'),\n",
    " ('COOLINGDESCRIPTION', 'string'),\n",
    " ('APPLIANCES', 'string'),\n",
    " ('BACKONMARKETDATE', 'double'),\n",
    " ('ROOMFAMILYCHAR', 'string'),\n",
    " ('ROOMAREA3', 'string'),\n",
    " ('EXTERIOR', 'string'),\n",
    " ('ROOMFLOOR3', 'string'),\n",
    " ('ROOMFLOOR2', 'string'),\n",
    " ('ROOMAREA2', 'string'),\n",
    " ('DININGROOMDESCRIPTION', 'string'),\n",
    " ('BASEMENT', 'string'),\n",
    " ('BATHSFULL', 'bigint'),\n",
    " ('BATHSHALF', 'bigint'),\n",
    " ('BATHQUARTER', 'bigint'),\n",
    " ('BATHSTHREEQUARTER', 'double'),\n",
    " ('CLASS', 'string'),\n",
    " ('BATHSTOTAL', 'bigint'),\n",
    " ('BATHDESC', 'string'),\n",
    " ('ROOMAREA5', 'string'),\n",
    " ('ROOMFLOOR5', 'string'),\n",
    " ('ROOMAREA6', 'string'),\n",
    " ('ROOMFLOOR6', 'string'),\n",
    " ('ROOMAREA7', 'string'),\n",
    " ('ROOMFLOOR7', 'string'),\n",
    " ('ROOMAREA8', 'string'),\n",
    " ('ROOMFLOOR8', 'string'),\n",
    " ('BEDROOMS', 'bigint'),\n",
    " ('SQFTBELOWGROUND', 'bigint'),\n",
    " ('ASSUMABLEMORTGAGE', 'string'),\n",
    " ('ASSOCIATIONFEE', 'bigint'),\n",
    " ('ASSESSMENTPENDING', 'string'),\n",
    " ('ASSESSEDVALUATION', 'double')]"
   ]
  },
  {
   "cell_type": "code",
   "execution_count": 12,
   "id": "177fe297",
   "metadata": {},
   "outputs": [],
   "source": [
    "old_columns = df.columns"
   ]
  },
  {
   "cell_type": "code",
   "execution_count": 13,
   "id": "4be6fbe6",
   "metadata": {},
   "outputs": [],
   "source": [
    "new_columns = [c for c, d in required_dtypes]"
   ]
  },
  {
   "cell_type": "code",
   "execution_count": 14,
   "id": "39a1aaf3",
   "metadata": {},
   "outputs": [],
   "source": [
    "for n, o in zip(new_columns, old_columns): \n",
    "    df = df.withColumnRenamed(o, n)"
   ]
  },
  {
   "cell_type": "code",
   "execution_count": 15,
   "id": "e3cfa2aa",
   "metadata": {},
   "outputs": [
    {
     "data": {
      "text/plain": [
       "[('NO', 'string'),\n",
       " ('MLSID', 'string'),\n",
       " ('STREETNUMBERNUMERIC', 'string'),\n",
       " ('STREETADDRESS', 'string'),\n",
       " ('STREETNAME', 'string'),\n",
       " ('POSTALCODE', 'string'),\n",
       " ('STATEORPROVINCE', 'string'),\n",
       " ('CITY', 'string'),\n",
       " ('SALESCLOSEPRICE', 'int'),\n",
       " ('LISTDATE', 'string'),\n",
       " ('LISTPRICE', 'string'),\n",
       " ('LISTTYPE', 'string'),\n",
       " ('ORIGINALLISTPRICE', 'string'),\n",
       " ('PRICEPERTSFT', 'string'),\n",
       " ('FOUNDATIONSIZE', 'string'),\n",
       " ('FENCE', 'string'),\n",
       " ('MAPLETTER', 'string'),\n",
       " ('LOTSIZEDIMENSIONS', 'string'),\n",
       " ('SCHOOLDISTRICTNUMBER', 'string'),\n",
       " ('DAYSONMARKET', 'string'),\n",
       " ('OFFMARKETDATE', 'string'),\n",
       " ('FIREPLACES', 'string'),\n",
       " ('ROOMAREA4', 'string'),\n",
       " ('ROOMTYPE', 'string'),\n",
       " ('ROOF', 'string'),\n",
       " ('ROOMFLOOR4', 'string'),\n",
       " ('POTENTIALSHORTSALE', 'string'),\n",
       " ('POOLDESCRIPTION', 'string'),\n",
       " ('PDOM', 'string'),\n",
       " ('GARAGEDESCRIPTION', 'string'),\n",
       " ('SQFTABOVEGROUND', 'string'),\n",
       " ('TAXES', 'string'),\n",
       " ('ROOMFLOOR1', 'string'),\n",
       " ('ROOMAREA1', 'string'),\n",
       " ('TAXWITHASSESSMENTS', 'string'),\n",
       " ('TAXYEAR', 'string'),\n",
       " ('LIVINGAREA', 'string'),\n",
       " ('UNITNUMBER', 'string'),\n",
       " ('YEARBUILT', 'string'),\n",
       " ('ZONING', 'string'),\n",
       " ('STYLE', 'string'),\n",
       " ('ACRES', 'string'),\n",
       " ('COOLINGDESCRIPTION', 'string'),\n",
       " ('APPLIANCES', 'string'),\n",
       " ('BACKONMARKETDATE', 'string'),\n",
       " ('ROOMFAMILYCHAR', 'string'),\n",
       " ('ROOMAREA3', 'string'),\n",
       " ('EXTERIOR', 'string'),\n",
       " ('ROOMFLOOR3', 'string'),\n",
       " ('ROOMFLOOR2', 'string'),\n",
       " ('ROOMAREA2', 'string'),\n",
       " ('DININGROOMDESCRIPTION', 'string'),\n",
       " ('BASEMENT', 'string'),\n",
       " ('BATHSFULL', 'string'),\n",
       " ('BATHSHALF', 'string'),\n",
       " ('BATHQUARTER', 'string'),\n",
       " ('BATHSTHREEQUARTER', 'string'),\n",
       " ('CLASS', 'string'),\n",
       " ('BATHSTOTAL', 'string'),\n",
       " ('BATHDESC', 'string'),\n",
       " ('ROOMAREA5', 'string'),\n",
       " ('ROOMFLOOR5', 'string'),\n",
       " ('ROOMAREA6', 'string'),\n",
       " ('ROOMFLOOR6', 'string'),\n",
       " ('ROOMAREA7', 'string'),\n",
       " ('ROOMFLOOR7', 'string'),\n",
       " ('ROOMAREA8', 'string'),\n",
       " ('ROOMFLOOR8', 'string'),\n",
       " ('BEDROOMS', 'string'),\n",
       " ('SQFTBELOWGROUND', 'bigint'),\n",
       " ('ASSUMABLEMORTGAGE', 'string'),\n",
       " ('ASSOCIATIONFEE', 'bigint'),\n",
       " ('ASSESSMENTPENDING', 'string'),\n",
       " ('ASSESSEDVALUATION', 'double')]"
      ]
     },
     "execution_count": 15,
     "metadata": {},
     "output_type": "execute_result"
    }
   ],
   "source": [
    "#Checking the transformation of column names to capital letters\n",
    "df.dtypes"
   ]
  },
  {
   "cell_type": "code",
   "execution_count": null,
   "id": "6d90f812",
   "metadata": {},
   "outputs": [],
   "source": []
  },
  {
   "cell_type": "markdown",
   "id": "1ddf513a",
   "metadata": {},
   "source": [
    "# 5. Visualizations"
   ]
  },
  {
   "cell_type": "code",
   "execution_count": 16,
   "id": "2b0bf562",
   "metadata": {},
   "outputs": [],
   "source": [
    "%matplotlib inline\n",
    "\n",
    "import matplotlib.pyplot as plt\n",
    "import seaborn as sns\n",
    "\n",
    "import warnings\n",
    "warnings.filterwarnings(\"ignore\")"
   ]
  },
  {
   "cell_type": "code",
   "execution_count": 17,
   "id": "f93e8017",
   "metadata": {},
   "outputs": [
    {
     "data": {
      "image/png": "[encoded data removed]",
      "text/plain": [
       "<Figure size 640x480 with 1 Axes>"
      ]
     },
     "metadata": {},
     "output_type": "display_data"
    },
    {
     "name": "stdout",
     "output_type": "stream",
     "text": [
      "[Row(skewness(LISTPRICE)=2.790448093916559)]\n"
     ]
    }
   ],
   "source": [
    "# Select a single column and sample and convert to pandas\n",
    "# sample 50% and not use replacement and setting the random seed to 42.\n",
    "sample_df = df.select(['LISTPRICE']).sample(False, .5, 42)\n",
    "pandas_df = sample_df.toPandas()\n",
    "\n",
    "# Plot distribution of pandas_df and display plot\n",
    "sns.distplot(pandas_df)\n",
    "plt.show()\n",
    "\n",
    "# Import skewness function\n",
    "from pyspark.sql.functions import skewness\n",
    "\n",
    "# Compute and print skewness of LISTPRICE\n",
    "print(df.agg({'LISTPRICE': 'skewness'}).collect())"
   ]
  },
  {
   "cell_type": "code",
   "execution_count": 18,
   "id": "e6ceafa8",
   "metadata": {},
   "outputs": [],
   "source": [
    "df = df.withColumn(\"LIVINGAREA\", df.LIVINGAREA.cast(\"bigint\"))"
   ]
  },
  {
   "cell_type": "code",
   "execution_count": 19,
   "id": "f510e0fb",
   "metadata": {},
   "outputs": [],
   "source": [
    "# Select a the relevant columns and sample\n",
    "sample_df = df.select(['SALESCLOSEPRICE','LIVINGAREA']).sample(False, .5, 42)\n",
    "\n",
    "# Convert to pandas dataframe\n",
    "pandas_df = sample_df.toPandas()"
   ]
  },
  {
   "cell_type": "code",
   "execution_count": 20,
   "id": "9bb6595f",
   "metadata": {},
   "outputs": [
    {
     "data": {
      "text/plain": [
       "<seaborn.axisgrid.FacetGrid at 0x2847176a760>"
      ]
     },
     "execution_count": 20,
     "metadata": {},
     "output_type": "execute_result"
    },
    {
     "data": {
      "image/png": "[encoded data removed]",
      "text/plain": [
       "<Figure size 500x500 with 1 Axes>"
      ]
     },
     "metadata": {},
     "output_type": "display_data"
    }
   ],
   "source": [
    "# Linear model plot of pandas_df\n",
    "sns.lmplot(x='LIVINGAREA', y='SALESCLOSEPRICE', data=pandas_df)"
   ]
  },
  {
   "cell_type": "markdown",
   "id": "4f7d0888",
   "metadata": {},
   "source": [
    "We can see a relation. If Livingarea increase, the salescloseprice also increases."
   ]
  },
  {
   "cell_type": "code",
   "execution_count": null,
   "id": "31c5c015",
   "metadata": {},
   "outputs": [],
   "source": []
  },
  {
   "cell_type": "markdown",
   "id": "b026542c",
   "metadata": {},
   "source": [
    "# 6. Preprocessing data II"
   ]
  },
  {
   "cell_type": "markdown",
   "id": "4d090b4f",
   "metadata": {},
   "source": [
    "### 6.1 Dropping a list of columns"
   ]
  },
  {
   "cell_type": "code",
   "execution_count": 21,
   "id": "d5751148",
   "metadata": {},
   "outputs": [],
   "source": [
    "# List of columns to remove from dataset\n",
    "cols_to_drop = ['STREETNUMBERNUMERIC', 'LOTSIZEDIMENSIONS']\n",
    "\n",
    "# Drop columns in list\n",
    "df = df.drop(*cols_to_drop)"
   ]
  },
  {
   "cell_type": "markdown",
   "id": "b33b9876",
   "metadata": {},
   "source": [
    "### 6.2 Using text filters to remove records"
   ]
  },
  {
   "cell_type": "code",
   "execution_count": 22,
   "id": "2a79e93d",
   "metadata": {},
   "outputs": [
    {
     "name": "stdout",
     "output_type": "stream",
     "text": [
      "+-------------------+\n",
      "|  ASSUMABLEMORTGAGE|\n",
      "+-------------------+\n",
      "|  Yes w/ Qualifying|\n",
      "| Information Coming|\n",
      "|               null|\n",
      "|Yes w/No Qualifying|\n",
      "|      Not Assumable|\n",
      "+-------------------+\n",
      "\n"
     ]
    }
   ],
   "source": [
    "# Inspect unique values in the column 'ASSUMABLEMORTGAGE'\n",
    "df.select(['ASSUMABLEMORTGAGE']).distinct().show()"
   ]
  },
  {
   "cell_type": "code",
   "execution_count": 23,
   "id": "a0bb1191",
   "metadata": {},
   "outputs": [
    {
     "name": "stdout",
     "output_type": "stream",
     "text": [
      "+-------------------+-----+\n",
      "|  ASSUMABLEMORTGAGE|count|\n",
      "+-------------------+-----+\n",
      "|  Yes w/ Qualifying|   21|\n",
      "| Information Coming|   29|\n",
      "|               null| 3104|\n",
      "|Yes w/No Qualifying|    3|\n",
      "|      Not Assumable| 1843|\n",
      "+-------------------+-----+\n",
      "\n"
     ]
    }
   ],
   "source": [
    "df.groupBy('ASSUMABLEMORTGAGE').count().show()"
   ]
  },
  {
   "cell_type": "code",
   "execution_count": 24,
   "id": "147e4231",
   "metadata": {},
   "outputs": [
    {
     "data": {
      "text/plain": [
       "5000"
      ]
     },
     "execution_count": 24,
     "metadata": {},
     "output_type": "execute_result"
    }
   ],
   "source": [
    "df.count()"
   ]
  },
  {
   "cell_type": "code",
   "execution_count": 25,
   "id": "b099a6f5",
   "metadata": {},
   "outputs": [],
   "source": [
    "# List of possible values containing 'yes'\n",
    "yes_values = ['Yes w/ Qualifying', 'Yes w/No Qualifying']\n",
    "\n",
    "# Filter the text values out of df but keep null values\n",
    "text_filter = ~df['ASSUMABLEMORTGAGE'].isin(yes_values) | df['ASSUMABLEMORTGAGE'].isNull()\n",
    "df = df.where(text_filter)"
   ]
  },
  {
   "cell_type": "code",
   "execution_count": 26,
   "id": "c892a3b4",
   "metadata": {},
   "outputs": [
    {
     "data": {
      "text/plain": [
       "4976"
      ]
     },
     "execution_count": 26,
     "metadata": {},
     "output_type": "execute_result"
    }
   ],
   "source": [
    "df.count()"
   ]
  },
  {
   "cell_type": "code",
   "execution_count": 27,
   "id": "bc500cba",
   "metadata": {},
   "outputs": [
    {
     "name": "stdout",
     "output_type": "stream",
     "text": [
      "+------------------+-----+\n",
      "| ASSUMABLEMORTGAGE|count|\n",
      "+------------------+-----+\n",
      "|Information Coming|   29|\n",
      "|              null| 3104|\n",
      "|     Not Assumable| 1843|\n",
      "+------------------+-----+\n",
      "\n"
     ]
    }
   ],
   "source": [
    "# We kept values that were null and values that where not in the list provided.\n",
    "df.groupBy('ASSUMABLEMORTGAGE').count().show()"
   ]
  },
  {
   "cell_type": "markdown",
   "id": "37e5329b",
   "metadata": {},
   "source": [
    "### 6.3 Filtering numeric fields conditionally"
   ]
  },
  {
   "cell_type": "code",
   "execution_count": 28,
   "id": "99bd3d61",
   "metadata": {},
   "outputs": [],
   "source": [
    "#Changing column to his log value.\n",
    "from pyspark.sql.functions import log\n",
    "df = df.withColumn('log_SalesClosePrice', log('SalesClosePrice'))"
   ]
  },
  {
   "cell_type": "code",
   "execution_count": 29,
   "id": "9ba399da",
   "metadata": {},
   "outputs": [],
   "source": [
    "# Select a the relevant columns and sample\n",
    "sample_df = df.select(['log_SalesClosePrice'])\n",
    "\n",
    "# Convert to pandas dataframe\n",
    "pandas_df = sample_df.toPandas()"
   ]
  },
  {
   "cell_type": "code",
   "execution_count": 30,
   "id": "9653b7db",
   "metadata": {},
   "outputs": [
    {
     "data": {
      "text/html": [
       "<div>\n",
       "<style scoped>\n",
       "    .dataframe tbody tr th:only-of-type {\n",
       "        vertical-align: middle;\n",
       "    }\n",
       "\n",
       "    .dataframe tbody tr th {\n",
       "        vertical-align: top;\n",
       "    }\n",
       "\n",
       "    .dataframe thead th {\n",
       "        text-align: right;\n",
       "    }\n",
       "</style>\n",
       "<table border=\"1\" class=\"dataframe\">\n",
       "  <thead>\n",
       "    <tr style=\"text-align: right;\">\n",
       "      <th></th>\n",
       "      <th>log_SalesClosePrice</th>\n",
       "    </tr>\n",
       "  </thead>\n",
       "  <tbody>\n",
       "    <tr>\n",
       "      <th>0</th>\n",
       "      <td>11.870600</td>\n",
       "    </tr>\n",
       "    <tr>\n",
       "      <th>1</th>\n",
       "      <td>12.154779</td>\n",
       "    </tr>\n",
       "    <tr>\n",
       "      <th>2</th>\n",
       "      <td>12.323856</td>\n",
       "    </tr>\n",
       "    <tr>\n",
       "      <th>3</th>\n",
       "      <td>12.487485</td>\n",
       "    </tr>\n",
       "    <tr>\n",
       "      <th>4</th>\n",
       "      <td>12.428816</td>\n",
       "    </tr>\n",
       "  </tbody>\n",
       "</table>\n",
       "</div>"
      ],
      "text/plain": [
       "   log_SalesClosePrice\n",
       "0            11.870600\n",
       "1            12.154779\n",
       "2            12.323856\n",
       "3            12.487485\n",
       "4            12.428816"
      ]
     },
     "execution_count": 30,
     "metadata": {},
     "output_type": "execute_result"
    }
   ],
   "source": [
    "pandas_df.head()"
   ]
  },
  {
   "cell_type": "code",
   "execution_count": 31,
   "id": "7c6c6209",
   "metadata": {},
   "outputs": [
    {
     "data": {
      "text/plain": [
       "<AxesSubplot:xlabel='log_SalesClosePrice'>"
      ]
     },
     "execution_count": 31,
     "metadata": {},
     "output_type": "execute_result"
    },
    {
     "data": {
      "image/png": "[encoded data removed]",
      "text/plain": [
       "<Figure size 640x480 with 1 Axes>"
      ]
     },
     "metadata": {},
     "output_type": "display_data"
    }
   ],
   "source": [
    "sns.boxplot(x=pandas_df[\"log_SalesClosePrice\"])"
   ]
  },
  {
   "cell_type": "code",
   "execution_count": 32,
   "id": "ebda46f6",
   "metadata": {},
   "outputs": [],
   "source": [
    "from pyspark.sql.functions import mean, stddev\n",
    "\n",
    "# Calculate values used for outlier filtering\n",
    "mean_val = df.agg({'log_SalesClosePrice': 'mean'}).collect()[0][0]\n",
    "stddev_val = df.agg({'log_SalesClosePrice': 'stddev'}).collect()[0][0]"
   ]
  },
  {
   "cell_type": "code",
   "execution_count": 33,
   "id": "67d7981f",
   "metadata": {},
   "outputs": [],
   "source": [
    "# Create three standard deviation (μ ± 3σ) lower and upper bounds for data\n",
    "low_bound = mean_val - (3 * stddev_val)\n",
    "hi_bound = mean_val + (3 * stddev_val)"
   ]
  },
  {
   "cell_type": "code",
   "execution_count": 34,
   "id": "00da5da3",
   "metadata": {},
   "outputs": [
    {
     "data": {
      "text/plain": [
       "4976"
      ]
     },
     "execution_count": 34,
     "metadata": {},
     "output_type": "execute_result"
    }
   ],
   "source": [
    "df.count()"
   ]
  },
  {
   "cell_type": "code",
   "execution_count": 35,
   "id": "9797d9e7",
   "metadata": {},
   "outputs": [],
   "source": [
    "# Filter the data to fit between the lower and upper bounds\n",
    "df = df.where((df['log_SalesClosePrice'] < hi_bound) & (df['log_SalesClosePrice'] > low_bound))"
   ]
  },
  {
   "cell_type": "code",
   "execution_count": 36,
   "id": "f42b9d65",
   "metadata": {},
   "outputs": [
    {
     "data": {
      "text/plain": [
       "4946"
      ]
     },
     "execution_count": 36,
     "metadata": {},
     "output_type": "execute_result"
    }
   ],
   "source": [
    "df.count()"
   ]
  },
  {
   "cell_type": "code",
   "execution_count": 37,
   "id": "31179593",
   "metadata": {},
   "outputs": [
    {
     "data": {
      "text/plain": [
       "<AxesSubplot:xlabel='log_SalesClosePrice'>"
      ]
     },
     "execution_count": 37,
     "metadata": {},
     "output_type": "execute_result"
    },
    {
     "data": {
      "image/png": "[encoded data removed]",
      "text/plain": [
       "<Figure size 640x480 with 1 Axes>"
      ]
     },
     "metadata": {},
     "output_type": "display_data"
    }
   ],
   "source": [
    "# Check that we have deleted outliers\n",
    "sample_df = df.select(['log_SalesClosePrice'])\n",
    "pandas_df = sample_df.toPandas()\n",
    "sns.boxplot(x=pandas_df[\"log_SalesClosePrice\"])"
   ]
  },
  {
   "cell_type": "code",
   "execution_count": null,
   "id": "60a6fc7a",
   "metadata": {},
   "outputs": [],
   "source": []
  },
  {
   "cell_type": "code",
   "execution_count": null,
   "id": "5d6d25de",
   "metadata": {},
   "outputs": [],
   "source": []
  },
  {
   "cell_type": "markdown",
   "id": "1fae474a",
   "metadata": {},
   "source": [
    "Sources:\n",
    "https://github.com/ozlerhakan/datacamp/blob/master/Feature%20Engineering%20with%20PySpark/Feature%20Engineering%20with%20PySpark.ipynb"
   ]
  },
  {
   "cell_type": "code",
   "execution_count": null,
   "id": "ed927729",
   "metadata": {},
   "outputs": [],
   "source": []
  }
 ],
 "metadata": {
  "kernelspec": {
   "display_name": "Python 3 (ipykernel)",
   "language": "python",
   "name": "python3"
  },
  "language_info": {
   "codemirror_mode": {
    "name": "ipython",
    "version": 3
   },
   "file_extension": ".py",
   "mimetype": "text/x-python",
   "name": "python",
   "nbconvert_exporter": "python",
   "pygments_lexer": "ipython3",
   "version": "3.9.13"
  }
 },
 "nbformat": 4,
 "nbformat_minor": 5
}
