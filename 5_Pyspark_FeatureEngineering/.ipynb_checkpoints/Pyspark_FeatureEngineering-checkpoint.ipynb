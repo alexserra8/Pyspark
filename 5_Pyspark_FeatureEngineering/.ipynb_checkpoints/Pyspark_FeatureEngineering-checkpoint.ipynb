{
 "cells": [
  {
   "cell_type": "markdown",
   "id": "d6677307",
   "metadata": {},
   "source": [
    "# 0. Importing Libraries"
   ]
  },
  {
   "cell_type": "code",
   "execution_count": 1,
   "id": "943e5ffe",
   "metadata": {},
   "outputs": [],
   "source": [
    "import pandas as pd\n",
    "import numpy as np\n",
    "import pyspark as sp\n",
    "import findspark\n",
    "\n",
    "from pyspark.sql import SparkSession"
   ]
  },
  {
   "cell_type": "code",
   "execution_count": null,
   "id": "25210b72",
   "metadata": {},
   "outputs": [],
   "source": []
  },
  {
   "cell_type": "markdown",
   "id": "6df8ae56",
   "metadata": {},
   "source": [
    "# 1. Find Spark"
   ]
  },
  {
   "cell_type": "markdown",
   "id": "a5e0bd55",
   "metadata": {},
   "source": [
    "Adding pyspark to sys.path at runtime using the library findspark"
   ]
  },
  {
   "cell_type": "code",
   "execution_count": 2,
   "id": "69d6c134",
   "metadata": {},
   "outputs": [
    {
     "data": {
      "text/plain": [
       "'C:\\\\spark-3.4.1-bin-hadoop3'"
      ]
     },
     "execution_count": 2,
     "metadata": {},
     "output_type": "execute_result"
    }
   ],
   "source": [
    "findspark.init()\n",
    "findspark.find()"
   ]
  },
  {
   "cell_type": "code",
   "execution_count": null,
   "id": "07807f5e",
   "metadata": {},
   "outputs": [],
   "source": []
  },
  {
   "cell_type": "markdown",
   "id": "3711a15e",
   "metadata": {},
   "source": [
    "# 2. Creating SparkSession"
   ]
  },
  {
   "cell_type": "markdown",
   "id": "8f735b24",
   "metadata": {},
   "source": [
    "One aspect of the explanation why SparkSession is preferable over SparkContext in SparkSession Vs SparkContext battle is that SparkSession unifies all of Spark’s numerous contexts, removing the developer’s need to worry about generating separate contexts."
   ]
  },
  {
   "cell_type": "code",
   "execution_count": 3,
   "id": "efe45e31",
   "metadata": {},
   "outputs": [
    {
     "name": "stdout",
     "output_type": "stream",
     "text": [
      "<pyspark.sql.session.SparkSession object at 0x000001A78C022BB0>\n"
     ]
    }
   ],
   "source": [
    "#Create the SparkSession\n",
    "my_spark = SparkSession.builder.getOrCreate()\n",
    "\n",
    "#print the session\n",
    "print(my_spark)"
   ]
  },
  {
   "cell_type": "code",
   "execution_count": null,
   "id": "591e3350",
   "metadata": {},
   "outputs": [],
   "source": []
  },
  {
   "cell_type": "markdown",
   "id": "bf1f5ed8",
   "metadata": {},
   "source": [
    "# 3. Dataset overview"
   ]
  },
  {
   "cell_type": "code",
   "execution_count": 4,
   "id": "06c83808",
   "metadata": {},
   "outputs": [
    {
     "data": {
      "text/plain": [
       "['No.',\n",
       " 'MLSID',\n",
       " 'StreetNumberNumeric',\n",
       " 'streetaddress',\n",
       " 'STREETNAME',\n",
       " 'PostalCode',\n",
       " 'StateOrProvince',\n",
       " 'City',\n",
       " 'SalesClosePrice',\n",
       " 'LISTDATE',\n",
       " 'LISTPRICE',\n",
       " 'LISTTYPE',\n",
       " 'OriginalListPrice',\n",
       " 'PricePerTSFT',\n",
       " 'FOUNDATIONSIZE',\n",
       " 'FENCE',\n",
       " 'MapLetter',\n",
       " 'LotSizeDimensions',\n",
       " 'SchoolDistrictNumber',\n",
       " 'DAYSONMARKET',\n",
       " 'offmarketdate',\n",
       " 'Fireplaces',\n",
       " 'RoomArea4',\n",
       " 'roomtype',\n",
       " 'ROOF',\n",
       " 'RoomFloor4',\n",
       " 'PotentialShortSale',\n",
       " 'PoolDescription',\n",
       " 'PDOM',\n",
       " 'GarageDescription',\n",
       " 'SQFTABOVEGROUND',\n",
       " 'Taxes',\n",
       " 'RoomFloor1',\n",
       " 'RoomArea1',\n",
       " 'TAXWITHASSESSMENTS',\n",
       " 'TAXYEAR',\n",
       " 'LivingArea',\n",
       " 'UNITNUMBER',\n",
       " 'YEARBUILT',\n",
       " 'ZONING',\n",
       " 'STYLE',\n",
       " 'ACRES',\n",
       " 'CoolingDescription',\n",
       " 'APPLIANCES',\n",
       " 'backonmarketdate',\n",
       " 'ROOMFAMILYCHAR',\n",
       " 'RoomArea3',\n",
       " 'EXTERIOR',\n",
       " 'RoomFloor3',\n",
       " 'RoomFloor2',\n",
       " 'RoomArea2',\n",
       " 'DiningRoomDescription',\n",
       " 'BASEMENT',\n",
       " 'BathsFull',\n",
       " 'BathsHalf',\n",
       " 'BATHQUARTER',\n",
       " 'BATHSTHREEQUARTER',\n",
       " 'Class',\n",
       " 'BATHSTOTAL',\n",
       " 'BATHDESC',\n",
       " 'RoomArea5',\n",
       " 'RoomFloor5',\n",
       " 'RoomArea6',\n",
       " 'RoomFloor6',\n",
       " 'RoomArea7',\n",
       " 'RoomFloor7',\n",
       " 'RoomArea8',\n",
       " 'RoomFloor8',\n",
       " 'Bedrooms',\n",
       " 'SQFTBELOWGROUND',\n",
       " 'AssumableMortgage',\n",
       " 'AssociationFee',\n",
       " 'ASSESSMENTPENDING',\n",
       " 'AssessedValuation']"
      ]
     },
     "execution_count": 4,
     "metadata": {},
     "output_type": "execute_result"
    }
   ],
   "source": [
    "df = my_spark.read.csv('2017_StPaul_MN_Real_Estate.csv', header=True)\n",
    "df.columns"
   ]
  },
  {
   "cell_type": "code",
   "execution_count": 5,
   "id": "8cde43fb",
   "metadata": {},
   "outputs": [
    {
     "name": "stdout",
     "output_type": "stream",
     "text": [
      "+-------+------------------+\n",
      "|summary|   SalesClosePrice|\n",
      "+-------+------------------+\n",
      "|  count|              5000|\n",
      "|   mean|       262804.4668|\n",
      "| stddev|140559.82591998563|\n",
      "|    min|            100000|\n",
      "|    max|             99900|\n",
      "+-------+------------------+\n",
      "\n"
     ]
    }
   ],
   "source": [
    "# Select our dependent variable\n",
    "Y_df = df.select(['SalesClosePrice'])\n",
    "\n",
    "# Display summary statistics\n",
    "Y_df.describe().show()"
   ]
  },
  {
   "cell_type": "code",
   "execution_count": null,
   "id": "136d9165",
   "metadata": {},
   "outputs": [],
   "source": []
  },
  {
   "cell_type": "markdown",
   "id": "30cd367c",
   "metadata": {},
   "source": [
    "# 4. Preprocessing data I"
   ]
  },
  {
   "cell_type": "code",
   "execution_count": 6,
   "id": "c4d7019f",
   "metadata": {},
   "outputs": [
    {
     "data": {
      "text/plain": [
       "[('SalesClosePrice', 'string')]"
      ]
     },
     "execution_count": 6,
     "metadata": {},
     "output_type": "execute_result"
    }
   ],
   "source": [
    "#Check data of the feature to predict \n",
    "df.select([\"SalesClosePrice\"]).dtypes"
   ]
  },
  {
   "cell_type": "code",
   "execution_count": 7,
   "id": "5e0a71ed",
   "metadata": {},
   "outputs": [],
   "source": [
    "# convert the data type of SalesClosePrice to integer\n",
    "df = df.withColumn(\"SalesClosePrice\", df.SalesClosePrice.cast(\"integer\"))"
   ]
  },
  {
   "cell_type": "code",
   "execution_count": 8,
   "id": "eb095023",
   "metadata": {},
   "outputs": [
    {
     "data": {
      "text/plain": [
       "[('SalesClosePrice', 'int')]"
      ]
     },
     "execution_count": 8,
     "metadata": {},
     "output_type": "execute_result"
    }
   ],
   "source": [
    "#Check again the type after converting it.\n",
    "df.select([\"SalesClosePrice\"]).dtypes"
   ]
  },
  {
   "cell_type": "code",
   "execution_count": 9,
   "id": "36597059",
   "metadata": {},
   "outputs": [
    {
     "name": "stdout",
     "output_type": "stream",
     "text": [
      "+-------+------------------+\n",
      "|summary|   SalesClosePrice|\n",
      "+-------+------------------+\n",
      "|  count|              5000|\n",
      "|   mean|       262804.4668|\n",
      "| stddev|140559.82591998563|\n",
      "|    min|             48000|\n",
      "|    max|           1700000|\n",
      "+-------+------------------+\n",
      "\n"
     ]
    }
   ],
   "source": [
    "df.select('SalesClosePrice').describe().show()"
   ]
  },
  {
   "cell_type": "code",
   "execution_count": 10,
   "id": "42eb2669",
   "metadata": {},
   "outputs": [],
   "source": [
    "#Modifying some types of key variables\n",
    "df = df.withColumn(\"AssessedValuation\", df.AssessedValuation.cast(\"double\"))\n",
    "df = df.withColumn(\"AssociationFee\", df.AssociationFee.cast(\"bigint\"))\n",
    "df = df.withColumn(\"SQFTBELOWGROUND\", df.SQFTBELOWGROUND.cast(\"bigint\"))"
   ]
  },
  {
   "cell_type": "code",
   "execution_count": 11,
   "id": "9ce081b3",
   "metadata": {},
   "outputs": [],
   "source": [
    "#modifying name of column to capital letters\n",
    "required_dtypes = [('NO', 'bigint'),\n",
    " ('MLSID', 'string'),\n",
    " ('STREETNUMBERNUMERIC', 'bigint'),\n",
    " ('STREETADDRESS', 'string'),\n",
    " ('STREETNAME', 'string'),\n",
    " ('POSTALCODE', 'bigint'),\n",
    " ('STATEORPROVINCE', 'string'),\n",
    " ('CITY', 'string'),\n",
    " ('SALESCLOSEPRICE', 'bigint'),\n",
    " ('LISTDATE', 'string'),\n",
    " ('LISTPRICE', 'bigint'),\n",
    " ('LISTTYPE', 'string'),\n",
    " ('ORIGINALLISTPRICE', 'bigint'),\n",
    " ('PRICEPERTSFT', 'double'),\n",
    " ('FOUNDATIONSIZE', 'bigint'),\n",
    " ('FENCE', 'string'),\n",
    " ('MAPLETTER', 'string'),\n",
    " ('LOTSIZEDIMENSIONS', 'string'),\n",
    " ('SCHOOLDISTRICTNUMBER', 'string'),\n",
    " ('DAYSONMARKET', 'bigint'),\n",
    " ('OFFMARKETDATE', 'string'),\n",
    " ('FIREPLACES', 'bigint'),\n",
    " ('ROOMAREA4', 'string'),\n",
    " ('ROOMTYPE', 'string'),\n",
    " ('ROOF', 'string'),\n",
    " ('ROOMFLOOR4', 'string'),\n",
    " ('POTENTIALSHORTSALE', 'string'),\n",
    " ('POOLDESCRIPTION', 'string'),\n",
    " ('PDOM', 'bigint'),\n",
    " ('GARAGEDESCRIPTION', 'string'),\n",
    " ('SQFTABOVEGROUND', 'bigint'),\n",
    " ('TAXES', 'bigint'),\n",
    " ('ROOMFLOOR1', 'string'),\n",
    " ('ROOMAREA1', 'string'),\n",
    " ('TAXWITHASSESSMENTS', 'double'),\n",
    " ('TAXYEAR', 'bigint'),\n",
    " ('LIVINGAREA', 'bigint'),\n",
    " ('UNITNUMBER', 'string'),\n",
    " ('YEARBUILT', 'bigint'),\n",
    " ('ZONING', 'string'),\n",
    " ('STYLE', 'string'),\n",
    " ('ACRES', 'double'),\n",
    " ('COOLINGDESCRIPTION', 'string'),\n",
    " ('APPLIANCES', 'string'),\n",
    " ('BACKONMARKETDATE', 'double'),\n",
    " ('ROOMFAMILYCHAR', 'string'),\n",
    " ('ROOMAREA3', 'string'),\n",
    " ('EXTERIOR', 'string'),\n",
    " ('ROOMFLOOR3', 'string'),\n",
    " ('ROOMFLOOR2', 'string'),\n",
    " ('ROOMAREA2', 'string'),\n",
    " ('DININGROOMDESCRIPTION', 'string'),\n",
    " ('BASEMENT', 'string'),\n",
    " ('BATHSFULL', 'bigint'),\n",
    " ('BATHSHALF', 'bigint'),\n",
    " ('BATHQUARTER', 'bigint'),\n",
    " ('BATHSTHREEQUARTER', 'double'),\n",
    " ('CLASS', 'string'),\n",
    " ('BATHSTOTAL', 'bigint'),\n",
    " ('BATHDESC', 'string'),\n",
    " ('ROOMAREA5', 'string'),\n",
    " ('ROOMFLOOR5', 'string'),\n",
    " ('ROOMAREA6', 'string'),\n",
    " ('ROOMFLOOR6', 'string'),\n",
    " ('ROOMAREA7', 'string'),\n",
    " ('ROOMFLOOR7', 'string'),\n",
    " ('ROOMAREA8', 'string'),\n",
    " ('ROOMFLOOR8', 'string'),\n",
    " ('BEDROOMS', 'bigint'),\n",
    " ('SQFTBELOWGROUND', 'bigint'),\n",
    " ('ASSUMABLEMORTGAGE', 'string'),\n",
    " ('ASSOCIATIONFEE', 'bigint'),\n",
    " ('ASSESSMENTPENDING', 'string'),\n",
    " ('ASSESSEDVALUATION', 'double')]"
   ]
  },
  {
   "cell_type": "code",
   "execution_count": 12,
   "id": "61a1de89",
   "metadata": {},
   "outputs": [],
   "source": [
    "old_columns = df.columns"
   ]
  },
  {
   "cell_type": "code",
   "execution_count": 13,
   "id": "38eaf467",
   "metadata": {},
   "outputs": [],
   "source": [
    "new_columns = [c for c, d in required_dtypes]"
   ]
  },
  {
   "cell_type": "code",
   "execution_count": 14,
   "id": "10158182",
   "metadata": {},
   "outputs": [],
   "source": [
    "for n, o in zip(new_columns, old_columns): \n",
    "    df = df.withColumnRenamed(o, n)"
   ]
  },
  {
   "cell_type": "code",
   "execution_count": 15,
   "id": "d2bc5c4b",
   "metadata": {},
   "outputs": [
    {
     "data": {
      "text/plain": [
       "[('NO', 'string'),\n",
       " ('MLSID', 'string'),\n",
       " ('STREETNUMBERNUMERIC', 'string'),\n",
       " ('STREETADDRESS', 'string'),\n",
       " ('STREETNAME', 'string'),\n",
       " ('POSTALCODE', 'string'),\n",
       " ('STATEORPROVINCE', 'string'),\n",
       " ('CITY', 'string'),\n",
       " ('SALESCLOSEPRICE', 'int'),\n",
       " ('LISTDATE', 'string'),\n",
       " ('LISTPRICE', 'string'),\n",
       " ('LISTTYPE', 'string'),\n",
       " ('ORIGINALLISTPRICE', 'string'),\n",
       " ('PRICEPERTSFT', 'string'),\n",
       " ('FOUNDATIONSIZE', 'string'),\n",
       " ('FENCE', 'string'),\n",
       " ('MAPLETTER', 'string'),\n",
       " ('LOTSIZEDIMENSIONS', 'string'),\n",
       " ('SCHOOLDISTRICTNUMBER', 'string'),\n",
       " ('DAYSONMARKET', 'string'),\n",
       " ('OFFMARKETDATE', 'string'),\n",
       " ('FIREPLACES', 'string'),\n",
       " ('ROOMAREA4', 'string'),\n",
       " ('ROOMTYPE', 'string'),\n",
       " ('ROOF', 'string'),\n",
       " ('ROOMFLOOR4', 'string'),\n",
       " ('POTENTIALSHORTSALE', 'string'),\n",
       " ('POOLDESCRIPTION', 'string'),\n",
       " ('PDOM', 'string'),\n",
       " ('GARAGEDESCRIPTION', 'string'),\n",
       " ('SQFTABOVEGROUND', 'string'),\n",
       " ('TAXES', 'string'),\n",
       " ('ROOMFLOOR1', 'string'),\n",
       " ('ROOMAREA1', 'string'),\n",
       " ('TAXWITHASSESSMENTS', 'string'),\n",
       " ('TAXYEAR', 'string'),\n",
       " ('LIVINGAREA', 'string'),\n",
       " ('UNITNUMBER', 'string'),\n",
       " ('YEARBUILT', 'string'),\n",
       " ('ZONING', 'string'),\n",
       " ('STYLE', 'string'),\n",
       " ('ACRES', 'string'),\n",
       " ('COOLINGDESCRIPTION', 'string'),\n",
       " ('APPLIANCES', 'string'),\n",
       " ('BACKONMARKETDATE', 'string'),\n",
       " ('ROOMFAMILYCHAR', 'string'),\n",
       " ('ROOMAREA3', 'string'),\n",
       " ('EXTERIOR', 'string'),\n",
       " ('ROOMFLOOR3', 'string'),\n",
       " ('ROOMFLOOR2', 'string'),\n",
       " ('ROOMAREA2', 'string'),\n",
       " ('DININGROOMDESCRIPTION', 'string'),\n",
       " ('BASEMENT', 'string'),\n",
       " ('BATHSFULL', 'string'),\n",
       " ('BATHSHALF', 'string'),\n",
       " ('BATHQUARTER', 'string'),\n",
       " ('BATHSTHREEQUARTER', 'string'),\n",
       " ('CLASS', 'string'),\n",
       " ('BATHSTOTAL', 'string'),\n",
       " ('BATHDESC', 'string'),\n",
       " ('ROOMAREA5', 'string'),\n",
       " ('ROOMFLOOR5', 'string'),\n",
       " ('ROOMAREA6', 'string'),\n",
       " ('ROOMFLOOR6', 'string'),\n",
       " ('ROOMAREA7', 'string'),\n",
       " ('ROOMFLOOR7', 'string'),\n",
       " ('ROOMAREA8', 'string'),\n",
       " ('ROOMFLOOR8', 'string'),\n",
       " ('BEDROOMS', 'string'),\n",
       " ('SQFTBELOWGROUND', 'bigint'),\n",
       " ('ASSUMABLEMORTGAGE', 'string'),\n",
       " ('ASSOCIATIONFEE', 'bigint'),\n",
       " ('ASSESSMENTPENDING', 'string'),\n",
       " ('ASSESSEDVALUATION', 'double')]"
      ]
     },
     "execution_count": 15,
     "metadata": {},
     "output_type": "execute_result"
    }
   ],
   "source": [
    "#Checking the transformation of column names to capital letters\n",
    "df.dtypes"
   ]
  },
  {
   "cell_type": "code",
   "execution_count": 16,
   "id": "38fb311a",
   "metadata": {},
   "outputs": [],
   "source": [
    "for required_type, current_column in zip(required_dtypes, df.columns):\n",
    "    # since the required and current column names are the exact order we can do:\n",
    "    if required_type[1] != 'string':\n",
    "        df = df.withColumn(current_column, df[\"{:}\".format(current_column)].cast(required_type[1]))"
   ]
  },
  {
   "cell_type": "code",
   "execution_count": 17,
   "id": "982d9301",
   "metadata": {},
   "outputs": [
    {
     "data": {
      "text/plain": [
       "[('NO', 'bigint'),\n",
       " ('MLSID', 'string'),\n",
       " ('STREETNUMBERNUMERIC', 'bigint'),\n",
       " ('STREETADDRESS', 'string'),\n",
       " ('STREETNAME', 'string'),\n",
       " ('POSTALCODE', 'bigint'),\n",
       " ('STATEORPROVINCE', 'string'),\n",
       " ('CITY', 'string'),\n",
       " ('SALESCLOSEPRICE', 'bigint'),\n",
       " ('LISTDATE', 'string'),\n",
       " ('LISTPRICE', 'bigint'),\n",
       " ('LISTTYPE', 'string'),\n",
       " ('ORIGINALLISTPRICE', 'bigint'),\n",
       " ('PRICEPERTSFT', 'double'),\n",
       " ('FOUNDATIONSIZE', 'bigint'),\n",
       " ('FENCE', 'string'),\n",
       " ('MAPLETTER', 'string'),\n",
       " ('LOTSIZEDIMENSIONS', 'string'),\n",
       " ('SCHOOLDISTRICTNUMBER', 'string'),\n",
       " ('DAYSONMARKET', 'bigint'),\n",
       " ('OFFMARKETDATE', 'string'),\n",
       " ('FIREPLACES', 'bigint'),\n",
       " ('ROOMAREA4', 'string'),\n",
       " ('ROOMTYPE', 'string'),\n",
       " ('ROOF', 'string'),\n",
       " ('ROOMFLOOR4', 'string'),\n",
       " ('POTENTIALSHORTSALE', 'string'),\n",
       " ('POOLDESCRIPTION', 'string'),\n",
       " ('PDOM', 'bigint'),\n",
       " ('GARAGEDESCRIPTION', 'string'),\n",
       " ('SQFTABOVEGROUND', 'bigint'),\n",
       " ('TAXES', 'bigint'),\n",
       " ('ROOMFLOOR1', 'string'),\n",
       " ('ROOMAREA1', 'string'),\n",
       " ('TAXWITHASSESSMENTS', 'double'),\n",
       " ('TAXYEAR', 'bigint'),\n",
       " ('LIVINGAREA', 'bigint'),\n",
       " ('UNITNUMBER', 'string'),\n",
       " ('YEARBUILT', 'bigint'),\n",
       " ('ZONING', 'string'),\n",
       " ('STYLE', 'string'),\n",
       " ('ACRES', 'double'),\n",
       " ('COOLINGDESCRIPTION', 'string'),\n",
       " ('APPLIANCES', 'string'),\n",
       " ('BACKONMARKETDATE', 'double'),\n",
       " ('ROOMFAMILYCHAR', 'string'),\n",
       " ('ROOMAREA3', 'string'),\n",
       " ('EXTERIOR', 'string'),\n",
       " ('ROOMFLOOR3', 'string'),\n",
       " ('ROOMFLOOR2', 'string'),\n",
       " ('ROOMAREA2', 'string'),\n",
       " ('DININGROOMDESCRIPTION', 'string'),\n",
       " ('BASEMENT', 'string'),\n",
       " ('BATHSFULL', 'bigint'),\n",
       " ('BATHSHALF', 'bigint'),\n",
       " ('BATHQUARTER', 'bigint'),\n",
       " ('BATHSTHREEQUARTER', 'double'),\n",
       " ('CLASS', 'string'),\n",
       " ('BATHSTOTAL', 'bigint'),\n",
       " ('BATHDESC', 'string'),\n",
       " ('ROOMAREA5', 'string'),\n",
       " ('ROOMFLOOR5', 'string'),\n",
       " ('ROOMAREA6', 'string'),\n",
       " ('ROOMFLOOR6', 'string'),\n",
       " ('ROOMAREA7', 'string'),\n",
       " ('ROOMFLOOR7', 'string'),\n",
       " ('ROOMAREA8', 'string'),\n",
       " ('ROOMFLOOR8', 'string'),\n",
       " ('BEDROOMS', 'bigint'),\n",
       " ('SQFTBELOWGROUND', 'bigint'),\n",
       " ('ASSUMABLEMORTGAGE', 'string'),\n",
       " ('ASSOCIATIONFEE', 'bigint'),\n",
       " ('ASSESSMENTPENDING', 'string'),\n",
       " ('ASSESSEDVALUATION', 'double')]"
      ]
     },
     "execution_count": 17,
     "metadata": {},
     "output_type": "execute_result"
    }
   ],
   "source": [
    "df.dtypes"
   ]
  },
  {
   "cell_type": "code",
   "execution_count": 18,
   "id": "52d2152f",
   "metadata": {},
   "outputs": [],
   "source": [
    "check_columns = ['FOUNDATIONSIZE',\n",
    " 'DAYSONMARKET',\n",
    " 'FIREPLACES',\n",
    " 'PDOM',\n",
    " 'SQFTABOVEGROUND',\n",
    " 'TAXES',\n",
    " 'TAXWITHASSESSMENTS',\n",
    " 'TAXYEAR',\n",
    " 'LIVINGAREA',\n",
    " 'YEARBUILT',\n",
    " 'ACRES',\n",
    " 'BACKONMARKETDATE',\n",
    " 'BATHSFULL',\n",
    " 'BATHSHALF',\n",
    " 'BATHQUARTER',\n",
    " 'BATHSTHREEQUARTER',\n",
    " 'BATHSTOTAL',\n",
    " 'BEDROOMS',\n",
    " 'SQFTBELOWGROUND',\n",
    " 'ASSOCIATIONFEE',\n",
    " 'ASSESSEDVALUATION']"
   ]
  },
  {
   "cell_type": "code",
   "execution_count": 19,
   "id": "75e6a5e3",
   "metadata": {},
   "outputs": [
    {
     "name": "stdout",
     "output_type": "stream",
     "text": [
      "LIVINGAREA\n"
     ]
    }
   ],
   "source": [
    "# Name and value of col with max corr\n",
    "corr_max = 0\n",
    "corr_max_col = check_columns[0]\n",
    "\n",
    "# Loop to check all columns contained in list\n",
    "for col in check_columns:\n",
    "    # Check the correlation of a pair of columns\n",
    "    corr_val = df.corr(col, 'SALESCLOSEPRICE')\n",
    "    # Logic to compare corr_max with current corr_val\n",
    "    if corr_val > corr_max:\n",
    "        # Update the column name and corr value\n",
    "        corr_max = corr_val\n",
    "        corr_max_col = col\n",
    "\n",
    "print(corr_max_col)"
   ]
  },
  {
   "cell_type": "markdown",
   "id": "c4c08978",
   "metadata": {},
   "source": [
    "# 5. Visualizations"
   ]
  },
  {
   "cell_type": "code",
   "execution_count": 20,
   "id": "fca5efcc",
   "metadata": {},
   "outputs": [],
   "source": [
    "%matplotlib inline\n",
    "\n",
    "import matplotlib.pyplot as plt\n",
    "import seaborn as sns\n",
    "\n",
    "import warnings\n",
    "warnings.filterwarnings(\"ignore\")"
   ]
  },
  {
   "cell_type": "code",
   "execution_count": 21,
   "id": "eceee678",
   "metadata": {},
   "outputs": [
    {
     "data": {
      "image/png": "[encoded data removed]",
      "text/plain": [
       "<Figure size 640x480 with 1 Axes>"
      ]
     },
     "metadata": {},
     "output_type": "display_data"
    },
    {
     "name": "stdout",
     "output_type": "stream",
     "text": [
      "[Row(skewness(LISTPRICE)=2.790448093916559)]\n"
     ]
    }
   ],
   "source": [
    "# Select a single column and sample and convert to pandas\n",
    "# sample 50% and not use replacement and setting the random seed to 42.\n",
    "sample_df = df.select(['LISTPRICE']).sample(False, .5, 42)\n",
    "pandas_df = sample_df.toPandas()\n",
    "\n",
    "# Plot distribution of pandas_df and display plot\n",
    "sns.distplot(pandas_df)\n",
    "plt.show()\n",
    "\n",
    "# Import skewness function\n",
    "from pyspark.sql.functions import skewness\n",
    "\n",
    "# Compute and print skewness of LISTPRICE\n",
    "print(df.agg({'LISTPRICE': 'skewness'}).collect())"
   ]
  },
  {
   "cell_type": "code",
   "execution_count": 22,
   "id": "782a868c",
   "metadata": {},
   "outputs": [],
   "source": [
    "# Select a the relevant columns and sample\n",
    "sample_df = df.select(['SALESCLOSEPRICE','LIVINGAREA']).sample(False, .5, 42)\n",
    "\n",
    "# Convert to pandas dataframe\n",
    "pandas_df = sample_df.toPandas()"
   ]
  },
  {
   "cell_type": "code",
   "execution_count": 23,
   "id": "33985cbf",
   "metadata": {},
   "outputs": [
    {
     "data": {
      "text/plain": [
       "<seaborn.axisgrid.FacetGrid at 0x1a78f3f4ee0>"
      ]
     },
     "execution_count": 23,
     "metadata": {},
     "output_type": "execute_result"
    },
    {
     "data": {
      "image/png": "[encoded data removed]",
      "text/plain": [
       "<Figure size 500x500 with 1 Axes>"
      ]
     },
     "metadata": {},
     "output_type": "display_data"
    }
   ],
   "source": [
    "# Linear model plot of pandas_df\n",
    "sns.lmplot(x='LIVINGAREA', y='SALESCLOSEPRICE', data=pandas_df)"
   ]
  },
  {
   "cell_type": "markdown",
   "id": "49acbce7",
   "metadata": {},
   "source": [
    "We can see a relation. If Livingarea increase, the salescloseprice also increases."
   ]
  },
  {
   "cell_type": "code",
   "execution_count": null,
   "id": "e88045f1",
   "metadata": {},
   "outputs": [],
   "source": []
  },
  {
   "cell_type": "markdown",
   "id": "32aecd29",
   "metadata": {},
   "source": [
    "# 6. Preprocessing data II"
   ]
  },
  {
   "cell_type": "markdown",
   "id": "7f78c6f3",
   "metadata": {},
   "source": [
    "### 6.1 Dropping a list of columns"
   ]
  },
  {
   "cell_type": "code",
   "execution_count": 24,
   "id": "8f847e65",
   "metadata": {},
   "outputs": [],
   "source": [
    "# List of columns to remove from dataset\n",
    "cols_to_drop = ['STREETNUMBERNUMERIC', 'LOTSIZEDIMENSIONS']\n",
    "\n",
    "# Drop columns in list\n",
    "df = df.drop(*cols_to_drop)"
   ]
  },
  {
   "cell_type": "markdown",
   "id": "3e9d0b53",
   "metadata": {},
   "source": [
    "### 6.2 Using text filters to remove records"
   ]
  },
  {
   "cell_type": "code",
   "execution_count": 25,
   "id": "7553a1cf",
   "metadata": {},
   "outputs": [
    {
     "name": "stdout",
     "output_type": "stream",
     "text": [
      "+-------------------+\n",
      "|  ASSUMABLEMORTGAGE|\n",
      "+-------------------+\n",
      "|  Yes w/ Qualifying|\n",
      "| Information Coming|\n",
      "|               null|\n",
      "|Yes w/No Qualifying|\n",
      "|      Not Assumable|\n",
      "+-------------------+\n",
      "\n"
     ]
    }
   ],
   "source": [
    "# Inspect unique values in the column 'ASSUMABLEMORTGAGE'\n",
    "df.select(['ASSUMABLEMORTGAGE']).distinct().show()"
   ]
  },
  {
   "cell_type": "code",
   "execution_count": 26,
   "id": "bb8a49c6",
   "metadata": {},
   "outputs": [
    {
     "name": "stdout",
     "output_type": "stream",
     "text": [
      "+-------------------+-----+\n",
      "|  ASSUMABLEMORTGAGE|count|\n",
      "+-------------------+-----+\n",
      "|  Yes w/ Qualifying|   21|\n",
      "| Information Coming|   29|\n",
      "|               null| 3104|\n",
      "|Yes w/No Qualifying|    3|\n",
      "|      Not Assumable| 1843|\n",
      "+-------------------+-----+\n",
      "\n"
     ]
    }
   ],
   "source": [
    "df.groupBy('ASSUMABLEMORTGAGE').count().show()"
   ]
  },
  {
   "cell_type": "code",
   "execution_count": 27,
   "id": "2c9f1248",
   "metadata": {},
   "outputs": [
    {
     "data": {
      "text/plain": [
       "5000"
      ]
     },
     "execution_count": 27,
     "metadata": {},
     "output_type": "execute_result"
    }
   ],
   "source": [
    "df.count()"
   ]
  },
  {
   "cell_type": "code",
   "execution_count": 28,
   "id": "30cf612c",
   "metadata": {},
   "outputs": [],
   "source": [
    "# List of possible values containing 'yes'\n",
    "yes_values = ['Yes w/ Qualifying', 'Yes w/No Qualifying']\n",
    "\n",
    "# Filter the text values out of df but keep null values\n",
    "text_filter = ~df['ASSUMABLEMORTGAGE'].isin(yes_values) | df['ASSUMABLEMORTGAGE'].isNull()\n",
    "df = df.where(text_filter)"
   ]
  },
  {
   "cell_type": "code",
   "execution_count": 29,
   "id": "68980a06",
   "metadata": {},
   "outputs": [
    {
     "data": {
      "text/plain": [
       "4976"
      ]
     },
     "execution_count": 29,
     "metadata": {},
     "output_type": "execute_result"
    }
   ],
   "source": [
    "df.count()"
   ]
  },
  {
   "cell_type": "code",
   "execution_count": 30,
   "id": "0e23dfee",
   "metadata": {},
   "outputs": [
    {
     "name": "stdout",
     "output_type": "stream",
     "text": [
      "+------------------+-----+\n",
      "| ASSUMABLEMORTGAGE|count|\n",
      "+------------------+-----+\n",
      "|Information Coming|   29|\n",
      "|              null| 3104|\n",
      "|     Not Assumable| 1843|\n",
      "+------------------+-----+\n",
      "\n"
     ]
    }
   ],
   "source": [
    "# We kept values that were null and values that where not in the list provided.\n",
    "df.groupBy('ASSUMABLEMORTGAGE').count().show()"
   ]
  },
  {
   "cell_type": "markdown",
   "id": "df503312",
   "metadata": {},
   "source": [
    "### 6.3 Filtering numeric fields conditionally"
   ]
  },
  {
   "cell_type": "code",
   "execution_count": 31,
   "id": "005e0bab",
   "metadata": {},
   "outputs": [],
   "source": [
    "#Changing column to his log value.\n",
    "from pyspark.sql.functions import log\n",
    "df = df.withColumn('log_SalesClosePrice', log('SalesClosePrice'))"
   ]
  },
  {
   "cell_type": "code",
   "execution_count": 32,
   "id": "c7af3ea8",
   "metadata": {},
   "outputs": [],
   "source": [
    "# Select a the relevant columns and sample\n",
    "sample_df = df.select(['log_SalesClosePrice'])\n",
    "\n",
    "# Convert to pandas dataframe\n",
    "pandas_df = sample_df.toPandas()"
   ]
  },
  {
   "cell_type": "code",
   "execution_count": 33,
   "id": "a233f0b3",
   "metadata": {},
   "outputs": [
    {
     "data": {
      "text/html": [
       "<div>\n",
       "<style scoped>\n",
       "    .dataframe tbody tr th:only-of-type {\n",
       "        vertical-align: middle;\n",
       "    }\n",
       "\n",
       "    .dataframe tbody tr th {\n",
       "        vertical-align: top;\n",
       "    }\n",
       "\n",
       "    .dataframe thead th {\n",
       "        text-align: right;\n",
       "    }\n",
       "</style>\n",
       "<table border=\"1\" class=\"dataframe\">\n",
       "  <thead>\n",
       "    <tr style=\"text-align: right;\">\n",
       "      <th></th>\n",
       "      <th>log_SalesClosePrice</th>\n",
       "    </tr>\n",
       "  </thead>\n",
       "  <tbody>\n",
       "    <tr>\n",
       "      <th>0</th>\n",
       "      <td>11.870600</td>\n",
       "    </tr>\n",
       "    <tr>\n",
       "      <th>1</th>\n",
       "      <td>12.154779</td>\n",
       "    </tr>\n",
       "    <tr>\n",
       "      <th>2</th>\n",
       "      <td>12.323856</td>\n",
       "    </tr>\n",
       "    <tr>\n",
       "      <th>3</th>\n",
       "      <td>12.487485</td>\n",
       "    </tr>\n",
       "    <tr>\n",
       "      <th>4</th>\n",
       "      <td>12.428816</td>\n",
       "    </tr>\n",
       "  </tbody>\n",
       "</table>\n",
       "</div>"
      ],
      "text/plain": [
       "   log_SalesClosePrice\n",
       "0            11.870600\n",
       "1            12.154779\n",
       "2            12.323856\n",
       "3            12.487485\n",
       "4            12.428816"
      ]
     },
     "execution_count": 33,
     "metadata": {},
     "output_type": "execute_result"
    }
   ],
   "source": [
    "pandas_df.head()"
   ]
  },
  {
   "cell_type": "code",
   "execution_count": 34,
   "id": "fd0ed890",
   "metadata": {},
   "outputs": [
    {
     "data": {
      "text/plain": [
       "<AxesSubplot:xlabel='log_SalesClosePrice'>"
      ]
     },
     "execution_count": 34,
     "metadata": {},
     "output_type": "execute_result"
    },
    {
     "data": {
      "image/png": "[encoded data removed]",
      "text/plain": [
       "<Figure size 640x480 with 1 Axes>"
      ]
     },
     "metadata": {},
     "output_type": "display_data"
    }
   ],
   "source": [
    "sns.boxplot(x=pandas_df[\"log_SalesClosePrice\"])"
   ]
  },
  {
   "cell_type": "code",
   "execution_count": 35,
   "id": "5b561563",
   "metadata": {},
   "outputs": [],
   "source": [
    "from pyspark.sql.functions import mean, stddev\n",
    "\n",
    "# Calculate values used for outlier filtering\n",
    "mean_val = df.agg({'log_SalesClosePrice': 'mean'}).collect()[0][0]\n",
    "stddev_val = df.agg({'log_SalesClosePrice': 'stddev'}).collect()[0][0]"
   ]
  },
  {
   "cell_type": "code",
   "execution_count": 36,
   "id": "1b206fc0",
   "metadata": {},
   "outputs": [],
   "source": [
    "# Create three standard deviation (μ ± 3σ) lower and upper bounds for data\n",
    "low_bound = mean_val - (3 * stddev_val)\n",
    "hi_bound = mean_val + (3 * stddev_val)"
   ]
  },
  {
   "cell_type": "code",
   "execution_count": 37,
   "id": "9f276c4f",
   "metadata": {},
   "outputs": [
    {
     "data": {
      "text/plain": [
       "4976"
      ]
     },
     "execution_count": 37,
     "metadata": {},
     "output_type": "execute_result"
    }
   ],
   "source": [
    "df.count()"
   ]
  },
  {
   "cell_type": "code",
   "execution_count": 38,
   "id": "adb61091",
   "metadata": {},
   "outputs": [],
   "source": [
    "# Filter the data to fit between the lower and upper bounds\n",
    "df = df.where((df['log_SalesClosePrice'] < hi_bound) & (df['log_SalesClosePrice'] > low_bound))"
   ]
  },
  {
   "cell_type": "code",
   "execution_count": 39,
   "id": "7b0c350a",
   "metadata": {},
   "outputs": [
    {
     "data": {
      "text/plain": [
       "4946"
      ]
     },
     "execution_count": 39,
     "metadata": {},
     "output_type": "execute_result"
    }
   ],
   "source": [
    "df.count()"
   ]
  },
  {
   "cell_type": "code",
   "execution_count": 40,
   "id": "d73876a3",
   "metadata": {},
   "outputs": [
    {
     "data": {
      "text/plain": [
       "<AxesSubplot:xlabel='log_SalesClosePrice'>"
      ]
     },
     "execution_count": 40,
     "metadata": {},
     "output_type": "execute_result"
    },
    {
     "data": {
      "image/png": "[encoded data removed]",
      "text/plain": [
       "<Figure size 640x480 with 1 Axes>"
      ]
     },
     "metadata": {},
     "output_type": "display_data"
    }
   ],
   "source": [
    "# Check that we have deleted outliers\n",
    "sample_df = df.select(['log_SalesClosePrice'])\n",
    "pandas_df = sample_df.toPandas()\n",
    "sns.boxplot(x=pandas_df[\"log_SalesClosePrice\"])"
   ]
  },
  {
   "cell_type": "markdown",
   "id": "3d2c7a02",
   "metadata": {},
   "source": [
    "### 6.4 Custom Percentage Scaling"
   ]
  },
  {
   "cell_type": "markdown",
   "id": "e2ea8803",
   "metadata": {},
   "source": [
    "Creating a manual scaling of the Daysonmarket column"
   ]
  },
  {
   "cell_type": "code",
   "execution_count": 41,
   "id": "6d9df9dc",
   "metadata": {},
   "outputs": [],
   "source": [
    "from pyspark.sql.functions import round"
   ]
  },
  {
   "cell_type": "code",
   "execution_count": 42,
   "id": "e7508b7b",
   "metadata": {},
   "outputs": [],
   "source": [
    "# Define max and min values and collect them\n",
    "max_days = df.agg({'DAYSONMARKET': 'max'}).collect()[0][0]\n",
    "min_days = df.agg({'DAYSONMARKET': 'min'}).collect()[0][0]"
   ]
  },
  {
   "cell_type": "code",
   "execution_count": 43,
   "id": "4ae62e03",
   "metadata": {},
   "outputs": [],
   "source": [
    "# Create a new column based off the scaled data using the formula manually\n",
    "df = df.withColumn('percentage_scaled_days', \n",
    "                  round((df['DAYSONMARKET'] - min_days) / (max_days - min_days)) * 100)\n"
   ]
  },
  {
   "cell_type": "code",
   "execution_count": 44,
   "id": "9ccd2ccd",
   "metadata": {},
   "outputs": [
    {
     "name": "stdout",
     "output_type": "stream",
     "text": [
      "[Row(max(percentage_scaled_days)=100.0)]\n",
      "[Row(min(percentage_scaled_days)=0.0)]\n"
     ]
    }
   ],
   "source": [
    "# Calc max and min for new column\n",
    "print(df.agg({'percentage_scaled_days': 'max'}).collect())\n",
    "print(df.agg({'percentage_scaled_days': 'min'}).collect())"
   ]
  },
  {
   "cell_type": "code",
   "execution_count": 45,
   "id": "5b36fd3f",
   "metadata": {},
   "outputs": [
    {
     "data": {
      "text/plain": [
       "<AxesSubplot:xlabel='DAYSONMARKET'>"
      ]
     },
     "execution_count": 45,
     "metadata": {},
     "output_type": "execute_result"
    },
    {
     "data": {
      "image/png": "[encoded data removed]",
      "text/plain": [
       "<Figure size 640x480 with 1 Axes>"
      ]
     },
     "metadata": {},
     "output_type": "display_data"
    }
   ],
   "source": [
    "sample_df = df.select(['DAYSONMARKET'])\n",
    "pandas_df = sample_df.toPandas()\n",
    "sns.boxplot(x=pandas_df[\"DAYSONMARKET\"])"
   ]
  },
  {
   "cell_type": "code",
   "execution_count": 46,
   "id": "75f6496e",
   "metadata": {},
   "outputs": [
    {
     "data": {
      "text/plain": [
       "<AxesSubplot:xlabel='percentage_scaled_days'>"
      ]
     },
     "execution_count": 46,
     "metadata": {},
     "output_type": "execute_result"
    },
    {
     "data": {
      "image/png": "[encoded data removed]",
      "text/plain": [
       "<Figure size 640x480 with 1 Axes>"
      ]
     },
     "metadata": {},
     "output_type": "display_data"
    }
   ],
   "source": [
    "sample_df = df.select(['percentage_scaled_days'])\n",
    "pandas_df = sample_df.toPandas()\n",
    "sns.boxplot(x=pandas_df[\"percentage_scaled_days\"])"
   ]
  },
  {
   "cell_type": "markdown",
   "id": "e43575e9",
   "metadata": {},
   "source": [
    "### 6.5 Scaling your scalers"
   ]
  },
  {
   "cell_type": "markdown",
   "id": "50f328a0",
   "metadata": {},
   "source": [
    "Creating a function that will scale automatically the desired features."
   ]
  },
  {
   "cell_type": "code",
   "execution_count": 47,
   "id": "62ffc566",
   "metadata": {},
   "outputs": [],
   "source": [
    "def min_max_scaler(df, cols_to_scale):\n",
    "    # Takes a dataframe and list of columns to minmax scale. Returns a dataframe.\n",
    "    for col in cols_to_scale:\n",
    "        # Define min and max values and collect them\n",
    "        max_days = df.agg({col: 'max'}).collect()[0][0]\n",
    "        min_days = df.agg({col: 'min'}).collect()[0][0]\n",
    "        new_column_name = 'scaled_' + col\n",
    "        # Create a new column based off the scaled data\n",
    "        df = df.withColumn(new_column_name, \n",
    "                          (df[col] - min_days) / (max_days - min_days))\n",
    "    return df"
   ]
  },
  {
   "cell_type": "code",
   "execution_count": 48,
   "id": "d18b1249",
   "metadata": {},
   "outputs": [],
   "source": [
    "df = min_max_scaler(df, ['FOUNDATIONSIZE', 'DAYSONMARKET', 'FIREPLACES'])"
   ]
  },
  {
   "cell_type": "code",
   "execution_count": 49,
   "id": "b808374d",
   "metadata": {},
   "outputs": [
    {
     "name": "stdout",
     "output_type": "stream",
     "text": [
      "+------------+--------------------+\n",
      "|DAYSONMARKET| scaled_DAYSONMARKET|\n",
      "+------------+--------------------+\n",
      "|          10|0.044444444444444446|\n",
      "|           4|0.017777777777777778|\n",
      "|          28| 0.12444444444444444|\n",
      "|          19| 0.08444444444444445|\n",
      "|          21| 0.09333333333333334|\n",
      "|          17| 0.07555555555555556|\n",
      "|          32| 0.14222222222222222|\n",
      "|           5|0.022222222222222223|\n",
      "|          23| 0.10222222222222223|\n",
      "|          73|  0.3244444444444444|\n",
      "|          80| 0.35555555555555557|\n",
      "|          79|  0.3511111111111111|\n",
      "|          12| 0.05333333333333334|\n",
      "|           1|0.004444444444444...|\n",
      "|          18|                0.08|\n",
      "|           2|0.008888888888888889|\n",
      "|          12| 0.05333333333333334|\n",
      "|          45|                 0.2|\n",
      "|          31| 0.13777777777777778|\n",
      "|          16| 0.07111111111111111|\n",
      "+------------+--------------------+\n",
      "only showing top 20 rows\n",
      "\n"
     ]
    }
   ],
   "source": [
    "# Show that our data is now between 0 and 1\n",
    "df[['DAYSONMARKET', 'scaled_DAYSONMARKET']].show()"
   ]
  },
  {
   "cell_type": "markdown",
   "id": "073abbd6",
   "metadata": {},
   "source": [
    "### 6.6 Correcting Right Skew Data"
   ]
  },
  {
   "cell_type": "code",
   "execution_count": 50,
   "id": "cbb827e3",
   "metadata": {},
   "outputs": [
    {
     "name": "stdout",
     "output_type": "stream",
     "text": [
      "[Row(skewness(YEARBUILT)=-0.25317374723020336)]\n"
     ]
    }
   ],
   "source": [
    "# Compute the skewness\n",
    "print(df.agg({'YEARBUILT': 'skewness'}).collect())\n",
    "\n",
    "# Calculate the max year\n",
    "max_year = df.agg({'YEARBUILT': 'max'}).collect()[0][0]\n",
    "\n",
    "# Create a new column of reflected data\n",
    "df = df.withColumn('Reflect_YearBuilt', (max_year + 1) - df['YEARBUILT'])\n",
    "\n",
    "# Create a new column based reflected data\n",
    "df = df.withColumn('adj_yearbuilt', 1 / log(df['Reflect_YearBuilt']))"
   ]
  },
  {
   "cell_type": "markdown",
   "id": "37ca7edf",
   "metadata": {},
   "source": [
    "### 6.7 Visualizing Missing Data"
   ]
  },
  {
   "cell_type": "code",
   "execution_count": 51,
   "id": "fb1d642d",
   "metadata": {},
   "outputs": [],
   "source": [
    "columns = ['APPLIANCES',\n",
    " 'BACKONMARKETDATE',\n",
    " 'ROOMFAMILYCHAR',\n",
    " 'BASEMENT',\n",
    " 'DININGROOMDESCRIPTION']"
   ]
  },
  {
   "cell_type": "code",
   "execution_count": 52,
   "id": "41d0e650",
   "metadata": {},
   "outputs": [
    {
     "name": "stdout",
     "output_type": "stream",
     "text": [
      "+--------------------+----------------+--------------------+--------------------+---------------------+\n",
      "|          APPLIANCES|BACKONMARKETDATE|      ROOMFAMILYCHAR|            BASEMENT|DININGROOMDESCRIPTION|\n",
      "+--------------------+----------------+--------------------+--------------------+---------------------+\n",
      "|Range, Dishwasher...|            null|                null|                Full|       Eat In Kitchen|\n",
      "|Range, Microwave,...|            null|         Lower Level|Full, Partial Fin...| Informal Dining R...|\n",
      "|Range, Microwave,...|            null|                null|Full, Crawl Space...| Informal Dining Room|\n",
      "|Range, Washer, Dryer|            null|          Main Level|Full, Partial Fin...|                 null|\n",
      "|Range, Exhaust Fa...|            null|         Lower Level|Walkout, Full, Fi...| Breakfast Area, K...|\n",
      "|Range, Microwave,...|            null|                null|Full, Sump Pump, ...| Separate/Formal D...|\n",
      "|Range, Microwave,...|            null|                Loft|                Slab| Informal Dining R...|\n",
      "|Range, Microwave,...|            null|Main Level, Famil...|                None| Informal Dining R...|\n",
      "|Range, Microwave,...|            null|                null|                None| Informal Dining R...|\n",
      "|Range, Microwave,...|            null|Main Level, Famil...|                None| Informal Dining R...|\n",
      "|Range, Microwave,...|            null|Main Level, Famil...|                None| Informal Dining R...|\n",
      "|Range, Microwave,...|            null|                null|                None| Informal Dining R...|\n",
      "|Range, Microwave,...|            null|Main Level, Famil...|                None| Informal Dining R...|\n",
      "|Range, Microwave,...|            null|Main Level, Great...|                None| Informal Dining R...|\n",
      "|Cooktop, Wall Ove...|            null|                null|Full, Concrete Bl...| Informal Dining R...|\n",
      "|Range, Microwave,...|            null|                Loft|                None| Informal Dining R...|\n",
      "|Range, Microwave,...|            null|                Loft|                None| Informal Dining R...|\n",
      "|Range, Microwave,...|            null|Main Level, Great...|                None| Informal Dining R...|\n",
      "|Range, Microwave,...|            null|                Loft|                None| Informal Dining R...|\n",
      "|Range, Microwave,...|            null|                Loft|                None| Informal Dining R...|\n",
      "+--------------------+----------------+--------------------+--------------------+---------------------+\n",
      "only showing top 20 rows\n",
      "\n"
     ]
    }
   ],
   "source": [
    "df.select(columns).show()"
   ]
  },
  {
   "cell_type": "code",
   "execution_count": 53,
   "id": "1df67e43",
   "metadata": {},
   "outputs": [],
   "source": [
    "# Sample the dataframe and convert to Pandas\n",
    "sample_df = df.select(columns).sample(False, 0.5, 42)\n",
    "pandas_df = sample_df.toPandas()\n",
    "\n",
    "# Convert all values to T/F\n",
    "tf_df = pandas_df.isnull()"
   ]
  },
  {
   "cell_type": "code",
   "execution_count": 54,
   "id": "f0da5453",
   "metadata": {},
   "outputs": [
    {
     "data": {
      "image/png": "[encoded data removed]",
      "text/plain": [
       "<Figure size 640x480 with 2 Axes>"
      ]
     },
     "metadata": {},
     "output_type": "display_data"
    }
   ],
   "source": [
    "# Plot it\n",
    "sns.heatmap(data=tf_df)\n",
    "plt.xticks(rotation=30, fontsize=10)\n",
    "plt.yticks(rotation=0, fontsize=10)\n",
    "plt.show()"
   ]
  },
  {
   "cell_type": "markdown",
   "id": "88620ff5",
   "metadata": {},
   "source": [
    "### 6.8 Imputing Missing Data"
   ]
  },
  {
   "cell_type": "code",
   "execution_count": 55,
   "id": "f9ff8f2a",
   "metadata": {},
   "outputs": [
    {
     "data": {
      "text/plain": [
       "0"
      ]
     },
     "execution_count": 55,
     "metadata": {},
     "output_type": "execute_result"
    }
   ],
   "source": [
    "# Count missing rows\n",
    "# In this case there aren't nulls. But the way to input would be the same.\n",
    "df.where(df['PDOM'].isNull()).count()"
   ]
  },
  {
   "cell_type": "code",
   "execution_count": 56,
   "id": "ebf0bab5",
   "metadata": {},
   "outputs": [],
   "source": [
    "# Calculate the mean value\n",
    "col_mean = df.agg({'PDOM': 'mean'}).collect()[0][0]"
   ]
  },
  {
   "cell_type": "code",
   "execution_count": 57,
   "id": "2550927b",
   "metadata": {},
   "outputs": [
    {
     "data": {
      "text/plain": [
       "DataFrame[NO: bigint, MLSID: string, STREETADDRESS: string, STREETNAME: string, POSTALCODE: bigint, STATEORPROVINCE: string, CITY: string, SALESCLOSEPRICE: bigint, LISTDATE: string, LISTPRICE: bigint, LISTTYPE: string, ORIGINALLISTPRICE: bigint, PRICEPERTSFT: double, FOUNDATIONSIZE: bigint, FENCE: string, MAPLETTER: string, SCHOOLDISTRICTNUMBER: string, DAYSONMARKET: bigint, OFFMARKETDATE: string, FIREPLACES: bigint, ROOMAREA4: string, ROOMTYPE: string, ROOF: string, ROOMFLOOR4: string, POTENTIALSHORTSALE: string, POOLDESCRIPTION: string, PDOM: bigint, GARAGEDESCRIPTION: string, SQFTABOVEGROUND: bigint, TAXES: bigint, ROOMFLOOR1: string, ROOMAREA1: string, TAXWITHASSESSMENTS: double, TAXYEAR: bigint, LIVINGAREA: bigint, UNITNUMBER: string, YEARBUILT: bigint, ZONING: string, STYLE: string, ACRES: double, COOLINGDESCRIPTION: string, APPLIANCES: string, BACKONMARKETDATE: double, ROOMFAMILYCHAR: string, ROOMAREA3: string, EXTERIOR: string, ROOMFLOOR3: string, ROOMFLOOR2: string, ROOMAREA2: string, DININGROOMDESCRIPTION: string, BASEMENT: string, BATHSFULL: bigint, BATHSHALF: bigint, BATHQUARTER: bigint, BATHSTHREEQUARTER: double, CLASS: string, BATHSTOTAL: bigint, BATHDESC: string, ROOMAREA5: string, ROOMFLOOR5: string, ROOMAREA6: string, ROOMFLOOR6: string, ROOMAREA7: string, ROOMFLOOR7: string, ROOMAREA8: string, ROOMFLOOR8: string, BEDROOMS: bigint, SQFTBELOWGROUND: bigint, ASSUMABLEMORTGAGE: string, ASSOCIATIONFEE: bigint, ASSESSMENTPENDING: string, ASSESSEDVALUATION: double, log_SalesClosePrice: double, percentage_scaled_days: double, scaled_FOUNDATIONSIZE: double, scaled_DAYSONMARKET: double, scaled_FIREPLACES: double, Reflect_YearBuilt: bigint, adj_yearbuilt: double]"
      ]
     },
     "execution_count": 57,
     "metadata": {},
     "output_type": "execute_result"
    }
   ],
   "source": [
    "# Replacing with the mean value for that column\n",
    "df.fillna(col_mean, subset=['PDOM'])"
   ]
  },
  {
   "cell_type": "code",
   "execution_count": 58,
   "id": "d20da0fd",
   "metadata": {},
   "outputs": [
    {
     "data": {
      "text/plain": [
       "0"
      ]
     },
     "execution_count": 58,
     "metadata": {},
     "output_type": "execute_result"
    }
   ],
   "source": [
    "# Count missing rows after imputing \n",
    "df.where(df['PDOM'].isNull()).count()"
   ]
  },
  {
   "cell_type": "markdown",
   "id": "4781cdef",
   "metadata": {},
   "source": [
    "### 6.9 Calculate Missing Percents"
   ]
  },
  {
   "cell_type": "markdown",
   "id": "bbfc9308",
   "metadata": {},
   "source": [
    "We are going to create a function that will drop columns that have X percentage os missing values."
   ]
  },
  {
   "cell_type": "code",
   "execution_count": 59,
   "id": "d91c1c6e",
   "metadata": {},
   "outputs": [],
   "source": [
    "def column_dropper(df, threshold):\n",
    "    # Takes a dataframe and threshold for missing values. Returns a dataframe.\n",
    "    total_records = df.count()\n",
    "    for col in df.columns:\n",
    "    # Calculate the percentage of missing values\n",
    "        missing = df.where(df[col].isNull()).count()\n",
    "        missing_percent = missing / total_records\n",
    "        # Drop column if percent of missing is more than threshold\n",
    "        if missing_percent > threshold:\n",
    "            df = df.drop(col)\n",
    "    return df"
   ]
  },
  {
   "cell_type": "code",
   "execution_count": 60,
   "id": "d4c80116",
   "metadata": {},
   "outputs": [
    {
     "name": "stdout",
     "output_type": "stream",
     "text": [
      "79\n"
     ]
    }
   ],
   "source": [
    "#Number of columns before\n",
    "print(len(df.columns))"
   ]
  },
  {
   "cell_type": "code",
   "execution_count": 61,
   "id": "5854f51c",
   "metadata": {},
   "outputs": [],
   "source": [
    "# Drop columns that are more than 60% missing\n",
    "df = column_dropper(df, .6)"
   ]
  },
  {
   "cell_type": "code",
   "execution_count": 62,
   "id": "fd1bf19d",
   "metadata": {},
   "outputs": [
    {
     "name": "stdout",
     "output_type": "stream",
     "text": [
      "73\n"
     ]
    }
   ],
   "source": [
    "#Number of columns after\n",
    "print(len(df.columns))"
   ]
  },
  {
   "cell_type": "code",
   "execution_count": null,
   "id": "b59ce7dd",
   "metadata": {},
   "outputs": [],
   "source": [
    " "
   ]
  },
  {
   "cell_type": "markdown",
   "id": "e31ba36e",
   "metadata": {},
   "source": [
    "# 7. Feature Engineering"
   ]
  },
  {
   "cell_type": "markdown",
   "id": "9c5e26c5",
   "metadata": {},
   "source": [
    "### 7.1 Differences"
   ]
  },
  {
   "cell_type": "code",
   "execution_count": 63,
   "id": "f4aff9ec",
   "metadata": {},
   "outputs": [],
   "source": [
    "# Lot size in square feet\n",
    "acres_to_sqfeet = 43560\n",
    "df = df.withColumn('LOT_SIZE_SQFT', df['ACRES'] * acres_to_sqfeet)"
   ]
  },
  {
   "cell_type": "code",
   "execution_count": 64,
   "id": "06d58bce",
   "metadata": {},
   "outputs": [],
   "source": [
    "# Create new column YARD_SIZE\n",
    "df = df.withColumn('YARD_SIZE', df['LOT_SIZE_SQFT'] - df['FOUNDATIONSIZE'])"
   ]
  },
  {
   "cell_type": "code",
   "execution_count": 65,
   "id": "d5ec79cc",
   "metadata": {},
   "outputs": [
    {
     "name": "stdout",
     "output_type": "stream",
     "text": [
      "Corr of ACRES vs SALESCLOSEPRICE: 0.2130819260750225\n",
      "Corr of FOUNDATIONSIZE vs SALESCLOSEPRICE: 0.5976957088401492\n",
      "Corr of YARD_SIZE vs SALESCLOSEPRICE: 0.20032633979612804\n"
     ]
    }
   ],
   "source": [
    "# Corr of ACRES vs SALESCLOSEPRICE\n",
    "print(\"Corr of ACRES vs SALESCLOSEPRICE: \" + str(df.corr('ACRES', 'SALESCLOSEPRICE')))\n",
    "# Corr of FOUNDATIONSIZE vs SALESCLOSEPRICE\n",
    "print(\"Corr of FOUNDATIONSIZE vs SALESCLOSEPRICE: \" + str(df.corr('FOUNDATIONSIZE', 'SALESCLOSEPRICE')))\n",
    "# Corr of YARD_SIZE vs SALESCLOSEPRICE\n",
    "print(\"Corr of YARD_SIZE vs SALESCLOSEPRICE: \" + str(df.corr('YARD_SIZE', 'SALESCLOSEPRICE')))"
   ]
  },
  {
   "cell_type": "markdown",
   "id": "e2d677d3",
   "metadata": {},
   "source": [
    "### 7.2 Ratios"
   ]
  },
  {
   "cell_type": "code",
   "execution_count": 66,
   "id": "94abb37a",
   "metadata": {},
   "outputs": [
    {
     "name": "stdout",
     "output_type": "stream",
     "text": [
      "+-----------------+---------+----------------+\n",
      "|ASSESSEDVALUATION|LISTPRICE|ASSESSED_TO_LIST|\n",
      "+-----------------+---------+----------------+\n",
      "|              0.0|   139900|             0.0|\n",
      "|              0.0|   210000|             0.0|\n",
      "|              0.0|   225000|             0.0|\n",
      "|              0.0|   230000|             0.0|\n",
      "|              0.0|   239900|             0.0|\n",
      "+-----------------+---------+----------------+\n",
      "only showing top 5 rows\n",
      "\n"
     ]
    }
   ],
   "source": [
    "# ASSESSED_TO_LIST\n",
    "df = df.withColumn('ASSESSED_TO_LIST', df['ASSESSEDVALUATION'] / df['LISTPRICE'])\n",
    "df[['ASSESSEDVALUATION', 'LISTPRICE', 'ASSESSED_TO_LIST']].show(5)"
   ]
  },
  {
   "cell_type": "code",
   "execution_count": 67,
   "id": "e40cbae6",
   "metadata": {},
   "outputs": [
    {
     "name": "stdout",
     "output_type": "stream",
     "text": [
      "+--------------------+-----+---------+\n",
      "|         TAX_TO_LIST|TAXES|LISTPRICE|\n",
      "+--------------------+-----+---------+\n",
      "|0.013280914939242315| 1858|   139900|\n",
      "| 0.00780952380952381| 1640|   210000|\n",
      "|0.010622222222222222| 2390|   225000|\n",
      "|0.009330434782608695| 2146|   230000|\n",
      "|0.008378491037932471| 2010|   239900|\n",
      "+--------------------+-----+---------+\n",
      "only showing top 5 rows\n",
      "\n"
     ]
    }
   ],
   "source": [
    "# TAX_TO_LIST\n",
    "df = df.withColumn('TAX_TO_LIST', df['TAXES'] / df['LISTPRICE'])\n",
    "df[['TAX_TO_LIST', 'TAXES', 'LISTPRICE']].show(5)"
   ]
  },
  {
   "cell_type": "code",
   "execution_count": 68,
   "id": "3308cdad",
   "metadata": {},
   "outputs": [
    {
     "name": "stdout",
     "output_type": "stream",
     "text": [
      "+------------------+--------+----------+\n",
      "|      BED_TO_BATHS|BEDROOMS|BATHSTOTAL|\n",
      "+------------------+--------+----------+\n",
      "|               1.5|       3|         2|\n",
      "|1.3333333333333333|       4|         3|\n",
      "|               2.0|       2|         1|\n",
      "|               1.0|       2|         2|\n",
      "|               1.5|       3|         2|\n",
      "+------------------+--------+----------+\n",
      "only showing top 5 rows\n",
      "\n"
     ]
    }
   ],
   "source": [
    "# BED_TO_BATHS\n",
    "df = df.withColumn('BED_TO_BATHS', df['BEDROOMS'] / df['BATHSTOTAL'])\n",
    "df[['BED_TO_BATHS', 'BEDROOMS', 'BATHSTOTAL']].show(5)"
   ]
  },
  {
   "cell_type": "markdown",
   "id": "5b963267",
   "metadata": {},
   "source": [
    "### 7.3 Deeper Features"
   ]
  },
  {
   "cell_type": "code",
   "execution_count": 69,
   "id": "2452a43e",
   "metadata": {},
   "outputs": [],
   "source": [
    "from scipy import stats"
   ]
  },
  {
   "cell_type": "code",
   "execution_count": 70,
   "id": "8c495a78",
   "metadata": {},
   "outputs": [],
   "source": [
    "def r2(x, y):\n",
    "    return stats.pearsonr(x, y)[0] ** 2"
   ]
  },
  {
   "cell_type": "code",
   "execution_count": 71,
   "id": "eaf50e51",
   "metadata": {},
   "outputs": [],
   "source": [
    "# Create new feature by adding two features together\n",
    "df = df.withColumn('Total_SQFT', df['SQFTBELOWGROUND'] + df['SQFTABOVEGROUND'])"
   ]
  },
  {
   "cell_type": "code",
   "execution_count": 72,
   "id": "75c29af6",
   "metadata": {},
   "outputs": [
    {
     "name": "stdout",
     "output_type": "stream",
     "text": [
      "+-------+-------------------+\n",
      "|summary| BATHS_PER_1000SQFT|\n",
      "+-------+-------------------+\n",
      "|  count|               4946|\n",
      "|   mean| 1.4339460530042523|\n",
      "| stddev| 14.205761576339642|\n",
      "|    min|0.39123630672926446|\n",
      "|    max|             1000.0|\n",
      "+-------+-------------------+\n",
      "\n"
     ]
    }
   ],
   "source": [
    "# Create additional new feature using previously created feature\n",
    "df = df.withColumn('BATHS_PER_1000SQFT', df['BATHSTOTAL'] / (df['Total_SQFT'] / 1000))\n",
    "df[['BATHS_PER_1000SQFT']].describe().show()"
   ]
  },
  {
   "cell_type": "code",
   "execution_count": 73,
   "id": "b5041ffa",
   "metadata": {},
   "outputs": [],
   "source": [
    "# Sample and create pandas dataframe\n",
    "pandas_df = df.sample(False, 0.5, 0).toPandas()"
   ]
  },
  {
   "cell_type": "code",
   "execution_count": 74,
   "id": "cf00d25f",
   "metadata": {},
   "outputs": [],
   "source": [
    "pandas_df=pandas_df[pandas_df[\"BATHS_PER_1000SQFT\"]<1000]"
   ]
  },
  {
   "cell_type": "code",
   "execution_count": 75,
   "id": "5d68d3d2",
   "metadata": {},
   "outputs": [
    {
     "data": {
      "text/plain": [
       "<seaborn.axisgrid.JointGrid at 0x1a7911f0460>"
      ]
     },
     "execution_count": 75,
     "metadata": {},
     "output_type": "execute_result"
    },
    {
     "data": {
      "image/png": "[encoded data removed]",
      "text/plain": [
       "<Figure size 600x600 with 3 Axes>"
      ]
     },
     "metadata": {},
     "output_type": "display_data"
    },
    {
     "data": {
      "image/png": "[encoded data removed]",
      "text/plain": [
       "<Figure size 600x600 with 3 Axes>"
      ]
     },
     "metadata": {},
     "output_type": "display_data"
    }
   ],
   "source": [
    "# Linear model plots\n",
    "sns.jointplot(x='Total_SQFT', y='SALESCLOSEPRICE', data=pandas_df)\n",
    "sns.jointplot(x='BATHS_PER_1000SQFT', y='SALESCLOSEPRICE', data=pandas_df)"
   ]
  },
  {
   "cell_type": "markdown",
   "id": "3d3617ac",
   "metadata": {},
   "source": [
    "### 7.4 Time Components"
   ]
  },
  {
   "cell_type": "code",
   "execution_count": 76,
   "id": "f7d1f39a",
   "metadata": {},
   "outputs": [
    {
     "data": {
      "text/plain": [
       "DataFrame[key: string, value: string]"
      ]
     },
     "execution_count": 76,
     "metadata": {},
     "output_type": "execute_result"
    }
   ],
   "source": [
    "\n",
    "# Import needed functions\n",
    "from pyspark.sql.functions import to_date, dayofweek\n",
    "\n",
    "#Important to set this. If not, issues with datetime appear\n",
    "my_spark.sql(\"set spark.sql.legacy.timeParserPolicy=LEGACY\")"
   ]
  },
  {
   "cell_type": "code",
   "execution_count": 77,
   "id": "59c5a8cc",
   "metadata": {},
   "outputs": [],
   "source": [
    "# Convert to date type\n",
    "df = df.withColumn('LISTDATE', to_date(df['LISTDATE'], format='MM/dd/yyyy HH:mm'))"
   ]
  },
  {
   "cell_type": "code",
   "execution_count": 78,
   "id": "3b3cef14",
   "metadata": {},
   "outputs": [],
   "source": [
    "# Get the day of the week\n",
    "df = df.withColumn('List_Day_of_Week', dayofweek(df['LISTDATE']))"
   ]
  },
  {
   "cell_type": "code",
   "execution_count": 79,
   "id": "721b3f9f",
   "metadata": {},
   "outputs": [],
   "source": [
    "# Sample and convert to pandas dataframe\n",
    "sample_df = df.sample(False, .5, 42).toPandas()"
   ]
  },
  {
   "cell_type": "code",
   "execution_count": 80,
   "id": "91ad2c92",
   "metadata": {},
   "outputs": [
    {
     "data": {
      "image/png": "[encoded data removed]",
      "text/plain": [
       "<Figure size 640x480 with 1 Axes>"
      ]
     },
     "metadata": {},
     "output_type": "display_data"
    }
   ],
   "source": [
    "# Plot count plot of of day of week\n",
    "sns.countplot(x=\"List_Day_of_Week\", data=sample_df)\n",
    "plt.show()"
   ]
  },
  {
   "cell_type": "markdown",
   "id": "74541917",
   "metadata": {},
   "source": [
    "### 7.5 Joining On Time Components"
   ]
  },
  {
   "cell_type": "code",
   "execution_count": 81,
   "id": "e6555af2",
   "metadata": {},
   "outputs": [],
   "source": [
    "import pandas as pd\n",
    "data = dict(City=['LELM - Lake Elmo', 'MAPW - Maplewood','STP - Saint Paul','WB - Woodbury', \\\n",
    "                  'OAKD - Oakdale', 'LELM - Lake Elmo', 'MAPW - Maplewood', \\\n",
    "                  'STP - Saint Paul', 'WB - Woodbury', 'OAKD - Oakdale'],\n",
    "     MedianHomeValue=[401000, 193000, 172000, 291000, 210000, 385000, 187000, 162000, 277000, 192000],\n",
    "     Year= [2016,2016,2016,2016,2016,2015,2015,2015,2015, 2015])"
   ]
  },
  {
   "cell_type": "code",
   "execution_count": 82,
   "id": "302caeaf",
   "metadata": {},
   "outputs": [],
   "source": [
    "df_price = pd.DataFrame(data)"
   ]
  },
  {
   "cell_type": "code",
   "execution_count": 83,
   "id": "34b10998",
   "metadata": {},
   "outputs": [
    {
     "name": "stdout",
     "output_type": "stream",
     "text": [
      "+----------------+---------------+----+\n",
      "|            City|MedianHomeValue|Year|\n",
      "+----------------+---------------+----+\n",
      "|LELM - Lake Elmo|         401000|2016|\n",
      "|MAPW - Maplewood|         193000|2016|\n",
      "|STP - Saint Paul|         172000|2016|\n",
      "|   WB - Woodbury|         291000|2016|\n",
      "|  OAKD - Oakdale|         210000|2016|\n",
      "|LELM - Lake Elmo|         385000|2015|\n",
      "|MAPW - Maplewood|         187000|2015|\n",
      "|STP - Saint Paul|         162000|2015|\n",
      "|   WB - Woodbury|         277000|2015|\n",
      "|  OAKD - Oakdale|         192000|2015|\n",
      "+----------------+---------------+----+\n",
      "\n"
     ]
    }
   ],
   "source": [
    "price_df = my_spark.createDataFrame(df_price)\n",
    "price_df.show()"
   ]
  },
  {
   "cell_type": "code",
   "execution_count": 84,
   "id": "36c8563f",
   "metadata": {},
   "outputs": [],
   "source": [
    "from pyspark.sql.functions import year\n",
    "\n",
    "# Create year column\n",
    "df = df.withColumn('list_year', year(df['LISTDATE']))\n",
    "\n",
    "# Adjust year to match\n",
    "df = df.withColumn('report_year', (df['list_year'] - 1))"
   ]
  },
  {
   "cell_type": "code",
   "execution_count": 85,
   "id": "f23f0ab8",
   "metadata": {},
   "outputs": [],
   "source": [
    "# Create join condition\n",
    "condition = [df['CITY'] == price_df['City'], df['report_year'] == price_df['year']]\n",
    "\n",
    "# Join the dataframes together\n",
    "df = df.join(price_df, on=condition, how='left')"
   ]
  },
  {
   "cell_type": "code",
   "execution_count": 86,
   "id": "3914b0f6",
   "metadata": {},
   "outputs": [
    {
     "name": "stdout",
     "output_type": "stream",
     "text": [
      "+---------------+\n",
      "|MedianHomeValue|\n",
      "+---------------+\n",
      "|         401000|\n",
      "|         401000|\n",
      "|         401000|\n",
      "|         401000|\n",
      "|         401000|\n",
      "|         401000|\n",
      "|         401000|\n",
      "|         401000|\n",
      "|         401000|\n",
      "|         401000|\n",
      "|         401000|\n",
      "|         401000|\n",
      "|         401000|\n",
      "|         401000|\n",
      "|         401000|\n",
      "|         401000|\n",
      "|         401000|\n",
      "|         401000|\n",
      "|         401000|\n",
      "|         401000|\n",
      "+---------------+\n",
      "only showing top 20 rows\n",
      "\n"
     ]
    }
   ],
   "source": [
    "# Inspect that new columns are available\n",
    "df[['MedianHomeValue']].show()"
   ]
  },
  {
   "cell_type": "code",
   "execution_count": 87,
   "id": "b44d6ec3",
   "metadata": {},
   "outputs": [
    {
     "name": "stdout",
     "output_type": "stream",
     "text": [
      "+-------+------------------+\n",
      "|summary|   MedianHomeValue|\n",
      "+-------+------------------+\n",
      "|  count|              4945|\n",
      "|   mean|211631.95146612742|\n",
      "| stddev|58960.469848766406|\n",
      "|    min|            172000|\n",
      "|    max|            401000|\n",
      "+-------+------------------+\n",
      "\n"
     ]
    }
   ],
   "source": [
    "df[['MedianHomeValue']].describe().show()"
   ]
  },
  {
   "cell_type": "markdown",
   "id": "68f7257a",
   "metadata": {},
   "source": [
    "### 7.6 Date Math"
   ]
  },
  {
   "cell_type": "code",
   "execution_count": 88,
   "id": "a32f0027",
   "metadata": {},
   "outputs": [],
   "source": [
    "from pyspark.sql.functions import lag, datediff, to_date\n",
    "from pyspark.sql.window import Window"
   ]
  },
  {
   "cell_type": "code",
   "execution_count": 89,
   "id": "c5ba4897",
   "metadata": {},
   "outputs": [],
   "source": [
    "# Cast data type\n",
    "mort_df = df.withColumn('DATE', to_date(df['LISTDATE']))"
   ]
  },
  {
   "cell_type": "code",
   "execution_count": 90,
   "id": "d3c2c952",
   "metadata": {},
   "outputs": [],
   "source": [
    "# Create window\n",
    "w = Window().orderBy(mort_df['DATE'])\n",
    "# Create lag column\n",
    "mort_df = mort_df.withColumn('DATE-1', lag(mort_df['DATE'], offset=1).over(w))"
   ]
  },
  {
   "cell_type": "code",
   "execution_count": 91,
   "id": "0d77a025",
   "metadata": {},
   "outputs": [
    {
     "name": "stdout",
     "output_type": "stream",
     "text": [
      "+----------+----------+\n",
      "|      DATE|    DATE-1|\n",
      "+----------+----------+\n",
      "|2017-02-23|      null|\n",
      "|2017-02-24|2017-02-23|\n",
      "|2017-02-24|2017-02-24|\n",
      "|2017-02-24|2017-02-24|\n",
      "|2017-02-24|2017-02-24|\n",
      "|2017-02-24|2017-02-24|\n",
      "|2017-02-24|2017-02-24|\n",
      "|2017-02-24|2017-02-24|\n",
      "|2017-02-24|2017-02-24|\n",
      "|2017-02-24|2017-02-24|\n",
      "+----------+----------+\n",
      "only showing top 10 rows\n",
      "\n"
     ]
    }
   ],
   "source": [
    "mort_df.select(['DATE','DATE-1']).show(10)"
   ]
  },
  {
   "cell_type": "code",
   "execution_count": 92,
   "id": "f9f3606c",
   "metadata": {},
   "outputs": [],
   "source": [
    "# Calculate difference between date columns\n",
    "mort_df = mort_df.withColumn('Days_Between_Report', datediff(mort_df['DATE'], mort_df['DATE-1']))"
   ]
  },
  {
   "cell_type": "code",
   "execution_count": 93,
   "id": "1012ba5c",
   "metadata": {},
   "outputs": [
    {
     "name": "stdout",
     "output_type": "stream",
     "text": [
      "+----------+----------+-------------------+\n",
      "|      DATE|    DATE-1|Days_Between_Report|\n",
      "+----------+----------+-------------------+\n",
      "|2017-02-23|      null|               null|\n",
      "|2017-02-24|2017-02-23|                  1|\n",
      "|2017-02-24|2017-02-24|                  0|\n",
      "|2017-02-24|2017-02-24|                  0|\n",
      "|2017-02-24|2017-02-24|                  0|\n",
      "|2017-02-24|2017-02-24|                  0|\n",
      "|2017-02-24|2017-02-24|                  0|\n",
      "|2017-02-24|2017-02-24|                  0|\n",
      "|2017-02-24|2017-02-24|                  0|\n",
      "|2017-02-24|2017-02-24|                  0|\n",
      "+----------+----------+-------------------+\n",
      "only showing top 10 rows\n",
      "\n"
     ]
    }
   ],
   "source": [
    "mort_df.select(['DATE','DATE-1',\"Days_Between_Report\"]).show(10)"
   ]
  },
  {
   "cell_type": "code",
   "execution_count": 94,
   "id": "6cc9bd6b",
   "metadata": {},
   "outputs": [
    {
     "name": "stdout",
     "output_type": "stream",
     "text": [
      "+-------------------+\n",
      "|Days_Between_Report|\n",
      "+-------------------+\n",
      "|               null|\n",
      "|                  1|\n",
      "|                  0|\n",
      "|                  2|\n",
      "|                  3|\n",
      "|                  9|\n",
      "|                 12|\n",
      "+-------------------+\n",
      "\n"
     ]
    }
   ],
   "source": [
    "# Print results\n",
    "mort_df.select('Days_Between_Report').distinct().show()"
   ]
  },
  {
   "cell_type": "markdown",
   "id": "028f1c3b",
   "metadata": {},
   "source": [
    "### 7.7 Extracting Text to New Features"
   ]
  },
  {
   "cell_type": "code",
   "execution_count": 95,
   "id": "ac9fb7cb",
   "metadata": {},
   "outputs": [],
   "source": [
    "# Import needed functions\n",
    "from pyspark.sql.functions import when"
   ]
  },
  {
   "cell_type": "code",
   "execution_count": 96,
   "id": "52e05587",
   "metadata": {},
   "outputs": [],
   "source": [
    "# Create boolean conditions for string matches\n",
    "has_attached_garage = df['GARAGEDESCRIPTION'].like('%Attached%')\n",
    "has_detached_garage = df['GARAGEDESCRIPTION'].like('%Detached%')\n"
   ]
  },
  {
   "cell_type": "code",
   "execution_count": 97,
   "id": "d2bc0f85",
   "metadata": {},
   "outputs": [],
   "source": [
    "# Conditional value assignment \n",
    "df = df.withColumn('has_attached_garage', (when(has_attached_garage, 1)\n",
    "                                          .when(has_detached_garage, 0)\n",
    "                                          .otherwise(None)))\n"
   ]
  },
  {
   "cell_type": "code",
   "execution_count": 98,
   "id": "07800574",
   "metadata": {},
   "outputs": [
    {
     "name": "stdout",
     "output_type": "stream",
     "text": [
      "+------------------------------------------------------------------+-------------------+\n",
      "|                                                 GARAGEDESCRIPTION|has_attached_garage|\n",
      "+------------------------------------------------------------------+-------------------+\n",
      "|                                                   Attached Garage|                  1|\n",
      "|           Attached Garage, Driveway - Asphalt, Garage Door Opener|                  1|\n",
      "|                                                   Attached Garage|                  1|\n",
      "|    Attached Garage, Detached Garage, Tuckunder, Driveway - Gravel|                  1|\n",
      "|           Attached Garage, Driveway - Asphalt, Garage Door Opener|                  1|\n",
      "|                               Attached Garage, Driveway - Asphalt|                  1|\n",
      "|           Attached Garage, Driveway - Asphalt, Garage Door Opener|                  1|\n",
      "|                                                   Attached Garage|                  1|\n",
      "|                                                   Attached Garage|                  1|\n",
      "|                                                   Attached Garage|                  1|\n",
      "|                                                   Attached Garage|                  1|\n",
      "|                                                   Attached Garage|                  1|\n",
      "|                                                   Attached Garage|                  1|\n",
      "|           Attached Garage, Driveway - Asphalt, Garage Door Opener|                  1|\n",
      "|Attached Garage, Tuckunder, Driveway - Asphalt, Garage Door Opener|                  1|\n",
      "|           Attached Garage, Driveway - Asphalt, Garage Door Opener|                  1|\n",
      "|           Attached Garage, Driveway - Asphalt, Garage Door Opener|                  1|\n",
      "|           Attached Garage, Driveway - Asphalt, Garage Door Opener|                  1|\n",
      "|           Attached Garage, Driveway - Asphalt, Garage Door Opener|                  1|\n",
      "|           Attached Garage, Driveway - Asphalt, Garage Door Opener|                  1|\n",
      "+------------------------------------------------------------------+-------------------+\n",
      "only showing top 20 rows\n",
      "\n"
     ]
    }
   ],
   "source": [
    "# Inspect results\n",
    "df[['GARAGEDESCRIPTION', 'has_attached_garage']].show(truncate=100)"
   ]
  },
  {
   "cell_type": "markdown",
   "id": "90c44129",
   "metadata": {},
   "source": [
    "### 7.8 Splitting & Exploding"
   ]
  },
  {
   "cell_type": "code",
   "execution_count": 99,
   "id": "fd4615fe",
   "metadata": {},
   "outputs": [
    {
     "name": "stdout",
     "output_type": "stream",
     "text": [
      "+------------------------------------------------------------------+\n",
      "|                                                 GARAGEDESCRIPTION|\n",
      "+------------------------------------------------------------------+\n",
      "|                                                   Attached Garage|\n",
      "|           Attached Garage, Driveway - Asphalt, Garage Door Opener|\n",
      "|                                                   Attached Garage|\n",
      "|    Attached Garage, Detached Garage, Tuckunder, Driveway - Gravel|\n",
      "|           Attached Garage, Driveway - Asphalt, Garage Door Opener|\n",
      "|                               Attached Garage, Driveway - Asphalt|\n",
      "|           Attached Garage, Driveway - Asphalt, Garage Door Opener|\n",
      "|                                                   Attached Garage|\n",
      "|                                                   Attached Garage|\n",
      "|                                                   Attached Garage|\n",
      "|                                                   Attached Garage|\n",
      "|                                                   Attached Garage|\n",
      "|                                                   Attached Garage|\n",
      "|           Attached Garage, Driveway - Asphalt, Garage Door Opener|\n",
      "|Attached Garage, Tuckunder, Driveway - Asphalt, Garage Door Opener|\n",
      "|           Attached Garage, Driveway - Asphalt, Garage Door Opener|\n",
      "|           Attached Garage, Driveway - Asphalt, Garage Door Opener|\n",
      "|           Attached Garage, Driveway - Asphalt, Garage Door Opener|\n",
      "|           Attached Garage, Driveway - Asphalt, Garage Door Opener|\n",
      "|           Attached Garage, Driveway - Asphalt, Garage Door Opener|\n",
      "+------------------------------------------------------------------+\n",
      "only showing top 20 rows\n",
      "\n"
     ]
    }
   ],
   "source": [
    "df.select(['GARAGEDESCRIPTION']).show(truncate=100)"
   ]
  },
  {
   "cell_type": "code",
   "execution_count": 100,
   "id": "a64f1859",
   "metadata": {},
   "outputs": [
    {
     "name": "stdout",
     "output_type": "stream",
     "text": [
      "+----------------------------+\n",
      "|              ex_garage_list|\n",
      "+----------------------------+\n",
      "|             Attached Garage|\n",
      "|      On-Street Parking Only|\n",
      "|                        None|\n",
      "| More Parking Onsite for Fee|\n",
      "|          Garage Door Opener|\n",
      "|   No Int Access to Dwelling|\n",
      "|           Driveway - Gravel|\n",
      "|       Valet Parking for Fee|\n",
      "|              Uncovered/Open|\n",
      "|               Heated Garage|\n",
      "|          Underground Garage|\n",
      "|                       Other|\n",
      "|                  Unassigned|\n",
      "|More Parking Offsite for Fee|\n",
      "|    Driveway - Other Surface|\n",
      "|       Contract Pkg Required|\n",
      "|                     Carport|\n",
      "|                     Secured|\n",
      "|             Detached Garage|\n",
      "|          Driveway - Asphalt|\n",
      "|                  Units Vary|\n",
      "|                    Assigned|\n",
      "|                   Tuckunder|\n",
      "|                     Covered|\n",
      "|            Insulated Garage|\n",
      "|         Driveway - Concrete|\n",
      "|                      Tandem|\n",
      "|           Driveway - Shared|\n",
      "+----------------------------+\n",
      "\n"
     ]
    }
   ],
   "source": [
    "# Import needed functions\n",
    "from pyspark.sql.functions import split, explode\n",
    "\n",
    "# Convert string to list-like array\n",
    "df = df.withColumn('garage_list', split(df['GARAGEDESCRIPTION'], ', '))\n",
    "\n",
    "# Explode the values into new records\n",
    "ex_df = df.withColumn('ex_garage_list', explode(df['garage_list']))\n",
    "\n",
    "# Inspect the values\n",
    "ex_df[['ex_garage_list']].distinct().show(100, truncate=50)"
   ]
  },
  {
   "cell_type": "code",
   "execution_count": 101,
   "id": "d1d37fe1",
   "metadata": {},
   "outputs": [
    {
     "data": {
      "text/plain": [
       "4946"
      ]
     },
     "execution_count": 101,
     "metadata": {},
     "output_type": "execute_result"
    }
   ],
   "source": [
    "df.count()"
   ]
  },
  {
   "cell_type": "code",
   "execution_count": 102,
   "id": "62375a30",
   "metadata": {},
   "outputs": [
    {
     "data": {
      "text/plain": [
       "11097"
      ]
     },
     "execution_count": 102,
     "metadata": {},
     "output_type": "execute_result"
    }
   ],
   "source": [
    "ex_df.count()"
   ]
  },
  {
   "cell_type": "markdown",
   "id": "25801523",
   "metadata": {},
   "source": [
    "### 7.9 Pivot & Join"
   ]
  },
  {
   "cell_type": "code",
   "execution_count": 103,
   "id": "577a77f2",
   "metadata": {},
   "outputs": [],
   "source": [
    "from pyspark.sql.functions import coalesce, first, lit\n",
    "\n",
    "# Create a dummy column of constant value\n",
    "ex_df = ex_df.withColumn('constant_val', lit(1))\n",
    "\n",
    "# Pivot \n",
    "piv_df = ex_df.groupBy('NO').pivot('ex_garage_list').agg(coalesce(first('constant_val')))\n",
    "\n",
    "# Join the dataframes together and fill null\n",
    "joined_df = df.join(piv_df, on='NO', how='left')\n",
    "\n",
    "# Columns to zero fill\n",
    "zfill_cols = piv_df.columns\n",
    "\n",
    "# Zero fill the pivoted values\n",
    "zfilled_df = joined_df.fillna(0, subset=zfill_cols)"
   ]
  },
  {
   "cell_type": "markdown",
   "id": "c56a9dd4",
   "metadata": {},
   "source": [
    "### 7.10 Binarizing Day of Week"
   ]
  },
  {
   "cell_type": "code",
   "execution_count": 104,
   "id": "92185770",
   "metadata": {},
   "outputs": [],
   "source": [
    "df = df.withColumn('List_Day_of_Week', df['List_Day_of_Week'].cast('double'))"
   ]
  },
  {
   "cell_type": "code",
   "execution_count": 105,
   "id": "3158066e",
   "metadata": {},
   "outputs": [],
   "source": [
    "# Import transformer\n",
    "from pyspark.ml.feature import Binarizer\n",
    "\n",
    "# Create the transformer\n",
    "binarizer = Binarizer(threshold=5, inputCol='List_Day_of_Week', outputCol='Listed_On_Weekend')\n",
    "\n",
    "# Apply the transformation to df\n",
    "df = binarizer.transform(df)"
   ]
  },
  {
   "cell_type": "code",
   "execution_count": 106,
   "id": "182be1b5",
   "metadata": {},
   "outputs": [
    {
     "name": "stdout",
     "output_type": "stream",
     "text": [
      "+----------------+-----------------+\n",
      "|List_Day_of_Week|Listed_On_Weekend|\n",
      "+----------------+-----------------+\n",
      "|             6.0|              1.0|\n",
      "|             5.0|              0.0|\n",
      "|             5.0|              0.0|\n",
      "|             7.0|              1.0|\n",
      "|             6.0|              1.0|\n",
      "|             6.0|              1.0|\n",
      "|             3.0|              0.0|\n",
      "|             4.0|              0.0|\n",
      "|             5.0|              0.0|\n",
      "|             7.0|              1.0|\n",
      "|             4.0|              0.0|\n",
      "|             3.0|              0.0|\n",
      "|             5.0|              0.0|\n",
      "|             6.0|              1.0|\n",
      "|             5.0|              0.0|\n",
      "|             3.0|              0.0|\n",
      "|             3.0|              0.0|\n",
      "|             7.0|              1.0|\n",
      "|             3.0|              0.0|\n",
      "|             3.0|              0.0|\n",
      "+----------------+-----------------+\n",
      "only showing top 20 rows\n",
      "\n"
     ]
    }
   ],
   "source": [
    "# Verify transformation\n",
    "df[['List_Day_of_Week', 'Listed_On_Weekend']].show()"
   ]
  },
  {
   "cell_type": "markdown",
   "id": "35b094a6",
   "metadata": {},
   "source": [
    "### 7.11 Bucketing"
   ]
  },
  {
   "cell_type": "code",
   "execution_count": 107,
   "id": "b231e676",
   "metadata": {},
   "outputs": [],
   "source": [
    "# Sample and convert to pandas dataframe\n",
    "sample_df = df.sample(False, .5, 42).toPandas()"
   ]
  },
  {
   "cell_type": "code",
   "execution_count": 108,
   "id": "b657806b",
   "metadata": {},
   "outputs": [
    {
     "data": {
      "text/html": [
       "<div>\n",
       "<style scoped>\n",
       "    .dataframe tbody tr th:only-of-type {\n",
       "        vertical-align: middle;\n",
       "    }\n",
       "\n",
       "    .dataframe tbody tr th {\n",
       "        vertical-align: top;\n",
       "    }\n",
       "\n",
       "    .dataframe thead th {\n",
       "        text-align: right;\n",
       "    }\n",
       "</style>\n",
       "<table border=\"1\" class=\"dataframe\">\n",
       "  <thead>\n",
       "    <tr style=\"text-align: right;\">\n",
       "      <th></th>\n",
       "      <th>NO</th>\n",
       "      <th>MLSID</th>\n",
       "      <th>STREETADDRESS</th>\n",
       "      <th>STREETNAME</th>\n",
       "      <th>POSTALCODE</th>\n",
       "      <th>STATEORPROVINCE</th>\n",
       "      <th>CITY</th>\n",
       "      <th>SALESCLOSEPRICE</th>\n",
       "      <th>LISTDATE</th>\n",
       "      <th>LISTPRICE</th>\n",
       "      <th>...</th>\n",
       "      <th>BATHS_PER_1000SQFT</th>\n",
       "      <th>List_Day_of_Week</th>\n",
       "      <th>list_year</th>\n",
       "      <th>report_year</th>\n",
       "      <th>City</th>\n",
       "      <th>MedianHomeValue</th>\n",
       "      <th>Year</th>\n",
       "      <th>has_attached_garage</th>\n",
       "      <th>garage_list</th>\n",
       "      <th>Listed_On_Weekend</th>\n",
       "    </tr>\n",
       "  </thead>\n",
       "  <tbody>\n",
       "    <tr>\n",
       "      <th>0</th>\n",
       "      <td>1037</td>\n",
       "      <td>RMLS</td>\n",
       "      <td>669 Kent St</td>\n",
       "      <td>Kent</td>\n",
       "      <td>55103</td>\n",
       "      <td>MN</td>\n",
       "      <td>STP - Saint Paul</td>\n",
       "      <td>61000</td>\n",
       "      <td>2017-08-19</td>\n",
       "      <td>59900</td>\n",
       "      <td>...</td>\n",
       "      <td>1.216545</td>\n",
       "      <td>7.0</td>\n",
       "      <td>2017</td>\n",
       "      <td>2016</td>\n",
       "      <td>STP - Saint Paul</td>\n",
       "      <td>172000</td>\n",
       "      <td>2016</td>\n",
       "      <td>0.0</td>\n",
       "      <td>[Detached Garage, Driveway - Concrete]</td>\n",
       "      <td>1.0</td>\n",
       "    </tr>\n",
       "    <tr>\n",
       "      <th>1</th>\n",
       "      <td>1042</td>\n",
       "      <td>RMLS</td>\n",
       "      <td>1181 Edgcumbe Rd, 414</td>\n",
       "      <td>Edgcumbe</td>\n",
       "      <td>55105</td>\n",
       "      <td>MN</td>\n",
       "      <td>STP - Saint Paul</td>\n",
       "      <td>62700</td>\n",
       "      <td>2017-03-29</td>\n",
       "      <td>62700</td>\n",
       "      <td>...</td>\n",
       "      <td>1.369863</td>\n",
       "      <td>4.0</td>\n",
       "      <td>2017</td>\n",
       "      <td>2016</td>\n",
       "      <td>STP - Saint Paul</td>\n",
       "      <td>172000</td>\n",
       "      <td>2016</td>\n",
       "      <td>NaN</td>\n",
       "      <td>[Underground Garage]</td>\n",
       "      <td>0.0</td>\n",
       "    </tr>\n",
       "    <tr>\n",
       "      <th>2</th>\n",
       "      <td>1045</td>\n",
       "      <td>RMLS</td>\n",
       "      <td>110 Atwater St</td>\n",
       "      <td>Atwater</td>\n",
       "      <td>55117</td>\n",
       "      <td>MN</td>\n",
       "      <td>STP - Saint Paul</td>\n",
       "      <td>62000</td>\n",
       "      <td>2017-04-05</td>\n",
       "      <td>65000</td>\n",
       "      <td>...</td>\n",
       "      <td>1.312336</td>\n",
       "      <td>4.0</td>\n",
       "      <td>2017</td>\n",
       "      <td>2016</td>\n",
       "      <td>STP - Saint Paul</td>\n",
       "      <td>172000</td>\n",
       "      <td>2016</td>\n",
       "      <td>0.0</td>\n",
       "      <td>[Detached Garage]</td>\n",
       "      <td>0.0</td>\n",
       "    </tr>\n",
       "    <tr>\n",
       "      <th>3</th>\n",
       "      <td>1047</td>\n",
       "      <td>RMLS</td>\n",
       "      <td>488 Wabasha St N, 503</td>\n",
       "      <td>Wabasha</td>\n",
       "      <td>55102</td>\n",
       "      <td>MN</td>\n",
       "      <td>STP - Saint Paul</td>\n",
       "      <td>74000</td>\n",
       "      <td>2017-05-25</td>\n",
       "      <td>74000</td>\n",
       "      <td>...</td>\n",
       "      <td>2.500000</td>\n",
       "      <td>5.0</td>\n",
       "      <td>2017</td>\n",
       "      <td>2016</td>\n",
       "      <td>STP - Saint Paul</td>\n",
       "      <td>172000</td>\n",
       "      <td>2016</td>\n",
       "      <td>NaN</td>\n",
       "      <td>[Contract Pkg Required]</td>\n",
       "      <td>0.0</td>\n",
       "    </tr>\n",
       "    <tr>\n",
       "      <th>4</th>\n",
       "      <td>1052</td>\n",
       "      <td>RMLS</td>\n",
       "      <td>1038 Rice St</td>\n",
       "      <td>Rice</td>\n",
       "      <td>55117</td>\n",
       "      <td>MN</td>\n",
       "      <td>STP - Saint Paul</td>\n",
       "      <td>80000</td>\n",
       "      <td>2017-05-23</td>\n",
       "      <td>79000</td>\n",
       "      <td>...</td>\n",
       "      <td>1.598721</td>\n",
       "      <td>3.0</td>\n",
       "      <td>2017</td>\n",
       "      <td>2016</td>\n",
       "      <td>STP - Saint Paul</td>\n",
       "      <td>172000</td>\n",
       "      <td>2016</td>\n",
       "      <td>0.0</td>\n",
       "      <td>[Detached Garage, Garage Door Opener]</td>\n",
       "      <td>0.0</td>\n",
       "    </tr>\n",
       "  </tbody>\n",
       "</table>\n",
       "<p>5 rows × 89 columns</p>\n",
       "</div>"
      ],
      "text/plain": [
       "     NO MLSID          STREETADDRESS STREETNAME  POSTALCODE STATEORPROVINCE  \\\n",
       "0  1037  RMLS            669 Kent St       Kent       55103              MN   \n",
       "1  1042  RMLS  1181 Edgcumbe Rd, 414   Edgcumbe       55105              MN   \n",
       "2  1045  RMLS         110 Atwater St    Atwater       55117              MN   \n",
       "3  1047  RMLS  488 Wabasha St N, 503    Wabasha       55102              MN   \n",
       "4  1052  RMLS           1038 Rice St       Rice       55117              MN   \n",
       "\n",
       "               CITY  SALESCLOSEPRICE    LISTDATE  LISTPRICE  ...  \\\n",
       "0  STP - Saint Paul            61000  2017-08-19      59900  ...   \n",
       "1  STP - Saint Paul            62700  2017-03-29      62700  ...   \n",
       "2  STP - Saint Paul            62000  2017-04-05      65000  ...   \n",
       "3  STP - Saint Paul            74000  2017-05-25      74000  ...   \n",
       "4  STP - Saint Paul            80000  2017-05-23      79000  ...   \n",
       "\n",
       "  BATHS_PER_1000SQFT  List_Day_of_Week  list_year  report_year  \\\n",
       "0           1.216545               7.0       2017         2016   \n",
       "1           1.369863               4.0       2017         2016   \n",
       "2           1.312336               4.0       2017         2016   \n",
       "3           2.500000               5.0       2017         2016   \n",
       "4           1.598721               3.0       2017         2016   \n",
       "\n",
       "               City MedianHomeValue  Year  has_attached_garage  \\\n",
       "0  STP - Saint Paul          172000  2016                  0.0   \n",
       "1  STP - Saint Paul          172000  2016                  NaN   \n",
       "2  STP - Saint Paul          172000  2016                  0.0   \n",
       "3  STP - Saint Paul          172000  2016                  NaN   \n",
       "4  STP - Saint Paul          172000  2016                  0.0   \n",
       "\n",
       "                              garage_list  Listed_On_Weekend  \n",
       "0  [Detached Garage, Driveway - Concrete]                1.0  \n",
       "1                    [Underground Garage]                0.0  \n",
       "2                       [Detached Garage]                0.0  \n",
       "3                 [Contract Pkg Required]                0.0  \n",
       "4   [Detached Garage, Garage Door Opener]                0.0  \n",
       "\n",
       "[5 rows x 89 columns]"
      ]
     },
     "execution_count": 108,
     "metadata": {},
     "output_type": "execute_result"
    }
   ],
   "source": [
    "sample_df.head()"
   ]
  },
  {
   "cell_type": "code",
   "execution_count": 109,
   "id": "9e6a408c",
   "metadata": {},
   "outputs": [
    {
     "data": {
      "text/plain": [
       "dtype('int64')"
      ]
     },
     "execution_count": 109,
     "metadata": {},
     "output_type": "execute_result"
    }
   ],
   "source": [
    "sample_df.BEDROOMS.dtype"
   ]
  },
  {
   "cell_type": "code",
   "execution_count": 110,
   "id": "ada06d23",
   "metadata": {},
   "outputs": [
    {
     "data": {
      "image/png": "[encoded data removed]",
      "text/plain": [
       "<Figure size 640x480 with 1 Axes>"
      ]
     },
     "metadata": {},
     "output_type": "display_data"
    }
   ],
   "source": [
    "from pyspark.ml.feature import Bucketizer\n",
    "\n",
    "# Plot distribution of sample_df\n",
    "sns.distplot(sample_df.BEDROOMS, axlabel='BEDROOMS')\n",
    "plt.show()"
   ]
  },
  {
   "cell_type": "code",
   "execution_count": 111,
   "id": "10ddafc8",
   "metadata": {},
   "outputs": [],
   "source": [
    "# Create the bucket splits and bucketizer\n",
    "splits = [0, 2, 3, 4, 5, float('Inf')]\n",
    "buck = Bucketizer(splits=splits, inputCol='BEDROOMS', outputCol='bedrooms')"
   ]
  },
  {
   "cell_type": "code",
   "execution_count": 112,
   "id": "32b5f24e",
   "metadata": {},
   "outputs": [],
   "source": [
    "# Apply the transformation to df\n",
    "df = buck.transform(df)"
   ]
  },
  {
   "cell_type": "code",
   "execution_count": 113,
   "id": "25066823",
   "metadata": {},
   "outputs": [
    {
     "name": "stdout",
     "output_type": "stream",
     "text": [
      "+--------+--------+\n",
      "|BEDROOMS|bedrooms|\n",
      "+--------+--------+\n",
      "|     2.0|     2.0|\n",
      "|     3.0|     3.0|\n",
      "|     1.0|     1.0|\n",
      "|     1.0|     1.0|\n",
      "|     2.0|     2.0|\n",
      "|     2.0|     2.0|\n",
      "|     2.0|     2.0|\n",
      "|     2.0|     2.0|\n",
      "|     2.0|     2.0|\n",
      "|     2.0|     2.0|\n",
      "|     2.0|     2.0|\n",
      "|     2.0|     2.0|\n",
      "|     2.0|     2.0|\n",
      "|     2.0|     2.0|\n",
      "|     1.0|     1.0|\n",
      "|     2.0|     2.0|\n",
      "|     2.0|     2.0|\n",
      "|     2.0|     2.0|\n",
      "|     2.0|     2.0|\n",
      "|     2.0|     2.0|\n",
      "+--------+--------+\n",
      "only showing top 20 rows\n",
      "\n"
     ]
    }
   ],
   "source": [
    "# Display results\n",
    "df[['BEDROOMS', 'bedrooms']].show()"
   ]
  },
  {
   "cell_type": "markdown",
   "id": "36ad6615",
   "metadata": {},
   "source": [
    "### 7.12 One Hot Encoding"
   ]
  },
  {
   "cell_type": "code",
   "execution_count": 114,
   "id": "9294c1ac",
   "metadata": {},
   "outputs": [
    {
     "name": "stdout",
     "output_type": "stream",
     "text": [
      "+--------------------+\n",
      "|SCHOOLDISTRICTNUMBER|\n",
      "+--------------------+\n",
      "|    834 - Stillwater|\n",
      "|    834 - Stillwater|\n",
      "|622 - North St Pa...|\n",
      "|    834 - Stillwater|\n",
      "|622 - North St Pa...|\n",
      "|    834 - Stillwater|\n",
      "|    834 - Stillwater|\n",
      "|    834 - Stillwater|\n",
      "|    834 - Stillwater|\n",
      "|    834 - Stillwater|\n",
      "|    834 - Stillwater|\n",
      "|    834 - Stillwater|\n",
      "|    834 - Stillwater|\n",
      "|    834 - Stillwater|\n",
      "|    834 - Stillwater|\n",
      "|    834 - Stillwater|\n",
      "|    834 - Stillwater|\n",
      "|    834 - Stillwater|\n",
      "|    834 - Stillwater|\n",
      "|    834 - Stillwater|\n",
      "+--------------------+\n",
      "only showing top 20 rows\n",
      "\n"
     ]
    }
   ],
   "source": [
    "df.select(['SCHOOLDISTRICTNUMBER']).show()"
   ]
  },
  {
   "cell_type": "code",
   "execution_count": 115,
   "id": "78520fac",
   "metadata": {},
   "outputs": [],
   "source": [
    "from pyspark.ml.feature import OneHotEncoder, StringIndexer\n",
    "\n",
    "# Map strings to numbers with string indexer\n",
    "string_indexer = StringIndexer(inputCol='SCHOOLDISTRICTNUMBER', outputCol='School_Index')\n",
    "indexed_df = string_indexer.fit(df).transform(df)"
   ]
  },
  {
   "cell_type": "code",
   "execution_count": 116,
   "id": "82f69783",
   "metadata": {},
   "outputs": [],
   "source": [
    "# Onehot encode indexed values\n",
    "encoder = OneHotEncoder(inputCol='School_Index', outputCol='School_Vec')\n",
    "\n",
    "encoded_df = encoder.fit(indexed_df).transform(indexed_df)"
   ]
  },
  {
   "cell_type": "code",
   "execution_count": 117,
   "id": "cf0c6c9f",
   "metadata": {},
   "outputs": [
    {
     "name": "stdout",
     "output_type": "stream",
     "text": [
      "+--------------------+------------+-------------+\n",
      "|SCHOOLDISTRICTNUMBER|School_Index|   School_Vec|\n",
      "+--------------------+------------+-------------+\n",
      "|      625 - St. Paul|         0.0|(7,[0],[1.0])|\n",
      "|      625 - St. Paul|         0.0|(7,[0],[1.0])|\n",
      "|      625 - St. Paul|         0.0|(7,[0],[1.0])|\n",
      "|      625 - St. Paul|         0.0|(7,[0],[1.0])|\n",
      "|      625 - St. Paul|         0.0|(7,[0],[1.0])|\n",
      "|      625 - St. Paul|         0.0|(7,[0],[1.0])|\n",
      "|      625 - St. Paul|         0.0|(7,[0],[1.0])|\n",
      "|      625 - St. Paul|         0.0|(7,[0],[1.0])|\n",
      "|      625 - St. Paul|         0.0|(7,[0],[1.0])|\n",
      "|      625 - St. Paul|         0.0|(7,[0],[1.0])|\n",
      "|      625 - St. Paul|         0.0|(7,[0],[1.0])|\n",
      "|      625 - St. Paul|         0.0|(7,[0],[1.0])|\n",
      "|      625 - St. Paul|         0.0|(7,[0],[1.0])|\n",
      "|      625 - St. Paul|         0.0|(7,[0],[1.0])|\n",
      "|      625 - St. Paul|         0.0|(7,[0],[1.0])|\n",
      "|      625 - St. Paul|         0.0|(7,[0],[1.0])|\n",
      "|      625 - St. Paul|         0.0|(7,[0],[1.0])|\n",
      "|      625 - St. Paul|         0.0|(7,[0],[1.0])|\n",
      "|      625 - St. Paul|         0.0|(7,[0],[1.0])|\n",
      "|      625 - St. Paul|         0.0|(7,[0],[1.0])|\n",
      "+--------------------+------------+-------------+\n",
      "only showing top 20 rows\n",
      "\n"
     ]
    }
   ],
   "source": [
    "# Inspect the transformation steps\n",
    "encoded_df[['SCHOOLDISTRICTNUMBER', 'School_Index', 'School_Vec']].show(truncate=100)"
   ]
  },
  {
   "cell_type": "code",
   "execution_count": null,
   "id": "8d53e9b3",
   "metadata": {},
   "outputs": [],
   "source": []
  },
  {
   "cell_type": "markdown",
   "id": "90024b00",
   "metadata": {},
   "source": [
    "# 8. Building a Model"
   ]
  },
  {
   "cell_type": "code",
   "execution_count": 118,
   "id": "08d191da",
   "metadata": {},
   "outputs": [
    {
     "name": "stdout",
     "output_type": "stream",
     "text": [
      "+---------------+\n",
      "|  OFFMARKETDATE|\n",
      "+---------------+\n",
      "| 7/30/2017 0:00|\n",
      "|10/13/2017 0:00|\n",
      "| 7/24/2017 0:00|\n",
      "| 9/13/2017 0:00|\n",
      "| 10/3/2017 0:00|\n",
      "| 4/27/2017 0:00|\n",
      "| 7/10/2017 0:00|\n",
      "|11/10/2017 0:00|\n",
      "|11/11/2017 0:00|\n",
      "|11/20/2017 0:00|\n",
      "|  8/7/2017 0:00|\n",
      "| 7/29/2017 0:00|\n",
      "| 3/24/2017 0:00|\n",
      "| 6/11/2017 0:00|\n",
      "|  6/5/2017 0:00|\n",
      "|10/17/2017 0:00|\n",
      "| 9/22/2017 0:00|\n",
      "|10/16/2017 0:00|\n",
      "|  6/6/2017 0:00|\n",
      "| 8/27/2017 0:00|\n",
      "+---------------+\n",
      "only showing top 20 rows\n",
      "\n"
     ]
    }
   ],
   "source": [
    "df.select(['OFFMARKETDATE']).show()"
   ]
  },
  {
   "cell_type": "code",
   "execution_count": 119,
   "id": "f485ec4b",
   "metadata": {},
   "outputs": [],
   "source": [
    "from datetime import timedelta"
   ]
  },
  {
   "cell_type": "code",
   "execution_count": 120,
   "id": "5f6ea7d5",
   "metadata": {},
   "outputs": [],
   "source": [
    "df = df.withColumn('OFFMARKETDATE', to_date(df['OFFMARKETDATE'], format='MM/dd/yyyy HH:mm'))"
   ]
  },
  {
   "cell_type": "code",
   "execution_count": 121,
   "id": "3bd09613",
   "metadata": {},
   "outputs": [],
   "source": [
    "def train_test_split_date(df, split_col, test_days=45):\n",
    "    \"\"\"Calculate the date to split test and training sets\"\"\"\n",
    "    # Find how many days our data spans\n",
    "    max_date = df.agg({split_col: 'max'}).collect()[0][0]\n",
    "    min_date = df.agg({split_col: 'min'}).collect()[0][0]\n",
    "    # Subtract an integer number of days from the last date in dataset\n",
    "    split_date = max_date - timedelta(days=test_days)\n",
    "    return split_date"
   ]
  },
  {
   "cell_type": "code",
   "execution_count": 122,
   "id": "8eed8e5f",
   "metadata": {},
   "outputs": [],
   "source": [
    "# Find the date to use in spitting test and train\n",
    "split_date = train_test_split_date(df, 'OFFMARKETDATE')"
   ]
  },
  {
   "cell_type": "code",
   "execution_count": 123,
   "id": "79bac6b0",
   "metadata": {},
   "outputs": [],
   "source": [
    "# Create Sequential Test and Training Sets\n",
    "train_df = df.where(df['OFFMARKETDATE'] < split_date) \n",
    "test_df = df.where(df['OFFMARKETDATE'] >= split_date).where(df['LISTDATE'] <= split_date) \n"
   ]
  },
  {
   "cell_type": "code",
   "execution_count": 124,
   "id": "540443bb",
   "metadata": {},
   "outputs": [
    {
     "data": {
      "text/plain": [
       "datetime.date(2017, 12, 10)"
      ]
     },
     "execution_count": 124,
     "metadata": {},
     "output_type": "execute_result"
    }
   ],
   "source": [
    "split_date"
   ]
  },
  {
   "cell_type": "code",
   "execution_count": 125,
   "id": "c70c16d9",
   "metadata": {},
   "outputs": [
    {
     "data": {
      "text/plain": [
       "(4774, 154)"
      ]
     },
     "execution_count": 125,
     "metadata": {},
     "output_type": "execute_result"
    }
   ],
   "source": [
    "train_df.count(), test_df.count()"
   ]
  },
  {
   "cell_type": "code",
   "execution_count": null,
   "id": "785477e0",
   "metadata": {},
   "outputs": [],
   "source": []
  },
  {
   "cell_type": "markdown",
   "id": "4f624076",
   "metadata": {},
   "source": [
    "Sources:\n",
    "https://github.com/ozlerhakan/datacamp/blob/master/Feature%20Engineering%20with%20PySpark/Feature%20Engineering%20with%20PySpark.ipynb"
   ]
  },
  {
   "cell_type": "code",
   "execution_count": null,
   "id": "543720d0",
   "metadata": {},
   "outputs": [],
   "source": []
  }
 ],
 "metadata": {
  "kernelspec": {
   "display_name": "Python 3 (ipykernel)",
   "language": "python",
   "name": "python3"
  },
  "language_info": {
   "codemirror_mode": {
    "name": "ipython",
    "version": 3
   },
   "file_extension": ".py",
   "mimetype": "text/x-python",
   "name": "python",
   "nbconvert_exporter": "python",
   "pygments_lexer": "ipython3",
   "version": "3.9.13"
  }
 },
 "nbformat": 4,
 "nbformat_minor": 5
}
